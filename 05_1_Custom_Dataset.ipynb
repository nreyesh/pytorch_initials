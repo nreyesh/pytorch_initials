{
  "nbformat": 4,
  "nbformat_minor": 0,
  "metadata": {
    "colab": {
      "provenance": [],
      "authorship_tag": "ABX9TyPnB4DZoIMnJ6wCeokTAMDb",
      "include_colab_link": true
    },
    "kernelspec": {
      "name": "python3",
      "display_name": "Python 3"
    },
    "language_info": {
      "name": "python"
    }
  },
  "cells": [
    {
      "cell_type": "markdown",
      "metadata": {
        "id": "view-in-github",
        "colab_type": "text"
      },
      "source": [
        "<a href=\"https://colab.research.google.com/github/nreyesh/pytorch_initials/blob/main/05_1_Custom_Dataset.ipynb\" target=\"_parent\"><img src=\"https://colab.research.google.com/assets/colab-badge.svg\" alt=\"Open In Colab\"/></a>"
      ]
    },
    {
      "cell_type": "code",
      "source": [
        "! pip install wget"
      ],
      "metadata": {
        "colab": {
          "base_uri": "https://localhost:8080/"
        },
        "id": "kNkNDeqXih0A",
        "outputId": "e979bac0-9719-4b22-e2d5-b7918377fba1"
      },
      "execution_count": 4,
      "outputs": [
        {
          "output_type": "stream",
          "name": "stdout",
          "text": [
            "Collecting wget\n",
            "  Downloading wget-3.2.zip (10 kB)\n",
            "  Preparing metadata (setup.py) ... \u001b[?25l\u001b[?25hdone\n",
            "Building wheels for collected packages: wget\n",
            "  Building wheel for wget (setup.py) ... \u001b[?25l\u001b[?25hdone\n",
            "  Created wheel for wget: filename=wget-3.2-py3-none-any.whl size=9655 sha256=46ea676cadfff8385eef403b143f976ac9a1d6f9b7da1a2429e1be5f2580dd9b\n",
            "  Stored in directory: /root/.cache/pip/wheels/8b/f1/7f/5c94f0a7a505ca1c81cd1d9208ae2064675d97582078e6c769\n",
            "Successfully built wget\n",
            "Installing collected packages: wget\n",
            "Successfully installed wget-3.2\n"
          ]
        }
      ]
    },
    {
      "cell_type": "markdown",
      "source": [
        "# 1. Getting the Dataset"
      ],
      "metadata": {
        "id": "4pyBjOI9iihz"
      }
    },
    {
      "cell_type": "code",
      "execution_count": 5,
      "metadata": {
        "colab": {
          "base_uri": "https://localhost:8080/",
          "height": 35
        },
        "id": "wGSCsaGBhg2c",
        "outputId": "9537e4bb-77eb-4f0f-de54-87ef2a8e102c"
      },
      "outputs": [
        {
          "output_type": "execute_result",
          "data": {
            "text/plain": [
              "'pizza_steak_sushi.zip'"
            ],
            "application/vnd.google.colaboratory.intrinsic+json": {
              "type": "string"
            }
          },
          "metadata": {},
          "execution_count": 5
        }
      ],
      "source": [
        "import wget\n",
        "\n",
        "url = 'https://github.com/mrdbourke/pytorch-deep-learning/raw/main/data/pizza_steak_sushi.zip'\n",
        "wget.download(url)"
      ]
    },
    {
      "cell_type": "code",
      "source": [
        "import os\n",
        "import zipfile\n",
        "from pathlib import Path\n",
        "\n",
        "data_path = Path('dataset/')\n",
        "zip_path = '/content/pizza_steak_sushi.zip'\n",
        "\n",
        "with zipfile.ZipFile(zip_path, 'r') as zip_ref:\n",
        "    if not os.path.isdir(data_path):\n",
        "        os.mkdir(data_path)\n",
        "    zip_ref.extractall(data_path)"
      ],
      "metadata": {
        "id": "p2ZFkw8Bi0ql"
      },
      "execution_count": 45,
      "outputs": []
    },
    {
      "cell_type": "markdown",
      "source": [
        "# 2. Loading the Data\n",
        "### Option 1: Image Loader"
      ],
      "metadata": {
        "id": "LlNmvkZTv6bM"
      }
    },
    {
      "cell_type": "code",
      "source": [
        "from torchvision.datasets import ImageFolder\n",
        "from torchvision import transforms\n",
        "\n",
        "train_dir = data_path / 'train'\n",
        "test_dir = data_path / 'test'\n",
        "\n",
        "train_transforms = transforms.Compose([\n",
        "        transforms.Resize(size=(128,128)),\n",
        "        transforms.RandomHorizontalFlip(p=0.5),\n",
        "        transforms.ToTensor()\n",
        "      ])\n",
        "test_transforms = transforms.Compose([\n",
        "        transforms.Resize(size=(128,128)),\n",
        "        transforms.ToTensor()\n",
        "      ])\n",
        "\n",
        "train_imageFolder = ImageFolder(train_dir,\n",
        "                                transform=train_transforms)\n",
        "\n",
        "test_imageFolder = ImageFolder(test_dir,\n",
        "                               transform=test_transforms)"
      ],
      "metadata": {
        "id": "y_fFcabquqA-"
      },
      "execution_count": 55,
      "outputs": []
    },
    {
      "cell_type": "code",
      "source": [
        "train_imageFolder"
      ],
      "metadata": {
        "colab": {
          "base_uri": "https://localhost:8080/"
        },
        "id": "naziYbru10gi",
        "outputId": "d18f26c3-0ffe-4850-cdef-0530c6e69532"
      },
      "execution_count": 56,
      "outputs": [
        {
          "output_type": "execute_result",
          "data": {
            "text/plain": [
              "Dataset ImageFolder\n",
              "    Number of datapoints: 225\n",
              "    Root location: dataset/train\n",
              "    StandardTransform\n",
              "Transform: Compose(\n",
              "               Resize(size=(128, 128), interpolation=bilinear, max_size=None, antialias=warn)\n",
              "               RandomHorizontalFlip(p=0.5)\n",
              "               ToTensor()\n",
              "           )"
            ]
          },
          "metadata": {},
          "execution_count": 56
        }
      ]
    },
    {
      "cell_type": "code",
      "source": [
        "train_imageFolder.classes"
      ],
      "metadata": {
        "colab": {
          "base_uri": "https://localhost:8080/"
        },
        "id": "txXWxY7z1YzX",
        "outputId": "9fc63a91-75f0-450e-b4f9-76f5af97b3bf"
      },
      "execution_count": 50,
      "outputs": [
        {
          "output_type": "execute_result",
          "data": {
            "text/plain": [
              "['pizza', 'steak', 'sushi']"
            ]
          },
          "metadata": {},
          "execution_count": 50
        }
      ]
    },
    {
      "cell_type": "code",
      "source": [
        "train_imageFolder.class_to_idx"
      ],
      "metadata": {
        "colab": {
          "base_uri": "https://localhost:8080/"
        },
        "id": "Ur_e9n2c1wXw",
        "outputId": "c1175271-b3fc-474e-a14b-79ce03f26391"
      },
      "execution_count": 51,
      "outputs": [
        {
          "output_type": "execute_result",
          "data": {
            "text/plain": [
              "{'pizza': 0, 'steak': 1, 'sushi': 2}"
            ]
          },
          "metadata": {},
          "execution_count": 51
        }
      ]
    },
    {
      "cell_type": "code",
      "source": [
        "train_imageFolder[0]"
      ],
      "metadata": {
        "colab": {
          "base_uri": "https://localhost:8080/"
        },
        "id": "lkplhf_05QiJ",
        "outputId": "f6633ac6-dfae-49f9-e32f-d29dc3162225"
      },
      "execution_count": 60,
      "outputs": [
        {
          "output_type": "execute_result",
          "data": {
            "text/plain": [
              "(tensor([[[0.1137, 0.1098, 0.1098,  ..., 0.1059, 0.1137, 0.1137],\n",
              "          [0.1255, 0.1216, 0.1216,  ..., 0.1059, 0.1098, 0.1137],\n",
              "          [0.1333, 0.1294, 0.1294,  ..., 0.1020, 0.1059, 0.1098],\n",
              "          ...,\n",
              "          [0.1765, 0.1686, 0.1647,  ..., 0.0902, 0.0863, 0.0824],\n",
              "          [0.1765, 0.1686, 0.1647,  ..., 0.0824, 0.0863, 0.0902],\n",
              "          [0.1608, 0.1569, 0.1569,  ..., 0.0824, 0.0824, 0.0863]],\n",
              " \n",
              "         [[0.0588, 0.0549, 0.0549,  ..., 0.0706, 0.0745, 0.0706],\n",
              "          [0.0627, 0.0627, 0.0627,  ..., 0.0745, 0.0706, 0.0745],\n",
              "          [0.0667, 0.0627, 0.0627,  ..., 0.0745, 0.0745, 0.0745],\n",
              "          ...,\n",
              "          [0.2314, 0.2275, 0.2275,  ..., 0.1098, 0.1098, 0.1059],\n",
              "          [0.2314, 0.2314, 0.2275,  ..., 0.1020, 0.1020, 0.1059],\n",
              "          [0.2275, 0.2275, 0.2353,  ..., 0.0980, 0.0980, 0.1020]],\n",
              " \n",
              "         [[0.0196, 0.0196, 0.0196,  ..., 0.0902, 0.0980, 0.0941],\n",
              "          [0.0235, 0.0235, 0.0235,  ..., 0.0902, 0.0941, 0.0941],\n",
              "          [0.0196, 0.0157, 0.0196,  ..., 0.0902, 0.0941, 0.0941],\n",
              "          ...,\n",
              "          [0.1843, 0.1765, 0.1765,  ..., 0.1059, 0.1098, 0.1059],\n",
              "          [0.1804, 0.1804, 0.1765,  ..., 0.0980, 0.1020, 0.1098],\n",
              "          [0.1725, 0.1725, 0.1765,  ..., 0.0980, 0.1020, 0.1059]]]),\n",
              " 0)"
            ]
          },
          "metadata": {},
          "execution_count": 60
        }
      ]
    },
    {
      "cell_type": "code",
      "source": [
        "from torch.utils.data import DataLoader\n",
        "\n",
        "BATCH_SIZE = 8\n",
        "train_loader = DataLoader(train_imageFolder,\n",
        "                          batch_size=BATCH_SIZE,\n",
        "                          shuffle=True)\n",
        "test_loader = DataLoader(test_imageFolder,\n",
        "                         batch_size=BATCH_SIZE,\n",
        "                         shuffle=True)"
      ],
      "metadata": {
        "id": "m7rDpFTu21LV"
      },
      "execution_count": 57,
      "outputs": []
    },
    {
      "cell_type": "code",
      "source": [
        "imgs, labels = next(iter(train_loader))\n",
        "len(imgs), len(labels)"
      ],
      "metadata": {
        "colab": {
          "base_uri": "https://localhost:8080/"
        },
        "id": "ZBiqUxLp5JZN",
        "outputId": "51a81452-cab3-462c-b58e-7fdb1b3f834e"
      },
      "execution_count": 70,
      "outputs": [
        {
          "output_type": "execute_result",
          "data": {
            "text/plain": [
              "(8, 8)"
            ]
          },
          "metadata": {},
          "execution_count": 70
        }
      ]
    },
    {
      "cell_type": "markdown",
      "source": [
        "## Option 2 Custom Image Loader"
      ],
      "metadata": {
        "id": "kJqrscDR53GD"
      }
    },
    {
      "cell_type": "code",
      "source": [
        "aux = Path('dataset/train/').glob('*/*.jpg')\n",
        "aux = list(aux)\n",
        "aux"
      ],
      "metadata": {
        "colab": {
          "base_uri": "https://localhost:8080/"
        },
        "id": "IsGt1ejN8e5N",
        "outputId": "26767746-ce00-44f2-c8ef-f42ad888dd6e"
      },
      "execution_count": 96,
      "outputs": [
        {
          "output_type": "execute_result",
          "data": {
            "text/plain": [
              "[PosixPath('dataset/train/steak/937133.jpg'),\n",
              " PosixPath('dataset/train/steak/1736968.jpg'),\n",
              " PosixPath('dataset/train/steak/421476.jpg'),\n",
              " PosixPath('dataset/train/steak/2254705.jpg'),\n",
              " PosixPath('dataset/train/steak/1621763.jpg'),\n",
              " PosixPath('dataset/train/steak/1225762.jpg'),\n",
              " PosixPath('dataset/train/steak/2287136.jpg'),\n",
              " PosixPath('dataset/train/steak/1382427.jpg'),\n",
              " PosixPath('dataset/train/steak/2825100.jpg'),\n",
              " PosixPath('dataset/train/steak/560503.jpg'),\n",
              " PosixPath('dataset/train/steak/2561199.jpg'),\n",
              " PosixPath('dataset/train/steak/100135.jpg'),\n",
              " PosixPath('dataset/train/steak/2881783.jpg'),\n",
              " PosixPath('dataset/train/steak/165639.jpg'),\n",
              " PosixPath('dataset/train/steak/2324994.jpg'),\n",
              " PosixPath('dataset/train/steak/1976160.jpg'),\n",
              " PosixPath('dataset/train/steak/1598345.jpg'),\n",
              " PosixPath('dataset/train/steak/3727036.jpg'),\n",
              " PosixPath('dataset/train/steak/3518960.jpg'),\n",
              " PosixPath('dataset/train/steak/234626.jpg'),\n",
              " PosixPath('dataset/train/steak/1624747.jpg'),\n",
              " PosixPath('dataset/train/steak/443210.jpg'),\n",
              " PosixPath('dataset/train/steak/214320.jpg'),\n",
              " PosixPath('dataset/train/steak/2129685.jpg'),\n",
              " PosixPath('dataset/train/steak/2614649.jpg'),\n",
              " PosixPath('dataset/train/steak/735441.jpg'),\n",
              " PosixPath('dataset/train/steak/1647351.jpg'),\n",
              " PosixPath('dataset/train/steak/2878151.jpg'),\n",
              " PosixPath('dataset/train/steak/167069.jpg'),\n",
              " PosixPath('dataset/train/steak/75537.jpg'),\n",
              " PosixPath('dataset/train/steak/339891.jpg'),\n",
              " PosixPath('dataset/train/steak/1966300.jpg'),\n",
              " PosixPath('dataset/train/steak/231296.jpg'),\n",
              " PosixPath('dataset/train/steak/3857508.jpg'),\n",
              " PosixPath('dataset/train/steak/2629750.jpg'),\n",
              " PosixPath('dataset/train/steak/830007.jpg'),\n",
              " PosixPath('dataset/train/steak/1761285.jpg'),\n",
              " PosixPath('dataset/train/steak/2979061.jpg'),\n",
              " PosixPath('dataset/train/steak/3727491.jpg'),\n",
              " PosixPath('dataset/train/steak/3142045.jpg'),\n",
              " PosixPath('dataset/train/steak/256592.jpg'),\n",
              " PosixPath('dataset/train/steak/3245622.jpg'),\n",
              " PosixPath('dataset/train/steak/97656.jpg'),\n",
              " PosixPath('dataset/train/steak/1839481.jpg'),\n",
              " PosixPath('dataset/train/steak/482022.jpg'),\n",
              " PosixPath('dataset/train/steak/2628106.jpg'),\n",
              " PosixPath('dataset/train/steak/2222018.jpg'),\n",
              " PosixPath('dataset/train/steak/2603058.jpg'),\n",
              " PosixPath('dataset/train/steak/1937872.jpg'),\n",
              " PosixPath('dataset/train/steak/1413972.jpg'),\n",
              " PosixPath('dataset/train/steak/2614189.jpg'),\n",
              " PosixPath('dataset/train/steak/225990.jpg'),\n",
              " PosixPath('dataset/train/steak/2163079.jpg'),\n",
              " PosixPath('dataset/train/steak/2606444.jpg'),\n",
              " PosixPath('dataset/train/steak/1961025.jpg'),\n",
              " PosixPath('dataset/train/steak/461689.jpg'),\n",
              " PosixPath('dataset/train/steak/2017387.jpg'),\n",
              " PosixPath('dataset/train/steak/3074367.jpg'),\n",
              " PosixPath('dataset/train/steak/2013535.jpg'),\n",
              " PosixPath('dataset/train/steak/3577618.jpg'),\n",
              " PosixPath('dataset/train/steak/355715.jpg'),\n",
              " PosixPath('dataset/train/steak/1615395.jpg'),\n",
              " PosixPath('dataset/train/steak/3142674.jpg'),\n",
              " PosixPath('dataset/train/steak/2880035.jpg'),\n",
              " PosixPath('dataset/train/steak/1257104.jpg'),\n",
              " PosixPath('dataset/train/steak/239025.jpg'),\n",
              " PosixPath('dataset/train/steak/1849463.jpg'),\n",
              " PosixPath('dataset/train/steak/1787505.jpg'),\n",
              " PosixPath('dataset/train/steak/922752.jpg'),\n",
              " PosixPath('dataset/train/steak/1264154.jpg'),\n",
              " PosixPath('dataset/train/steak/914570.jpg'),\n",
              " PosixPath('dataset/train/steak/2648423.jpg'),\n",
              " PosixPath('dataset/train/steak/2707522.jpg'),\n",
              " PosixPath('dataset/train/steak/176508.jpg'),\n",
              " PosixPath('dataset/train/steak/2087958.jpg'),\n",
              " PosixPath('dataset/train/pizza/3860002.jpg'),\n",
              " PosixPath('dataset/train/pizza/2760984.jpg'),\n",
              " PosixPath('dataset/train/pizza/1089334.jpg'),\n",
              " PosixPath('dataset/train/pizza/2811032.jpg'),\n",
              " PosixPath('dataset/train/pizza/2154394.jpg'),\n",
              " PosixPath('dataset/train/pizza/2428085.jpg'),\n",
              " PosixPath('dataset/train/pizza/1947572.jpg'),\n",
              " PosixPath('dataset/train/pizza/220190.jpg'),\n",
              " PosixPath('dataset/train/pizza/853441.jpg'),\n",
              " PosixPath('dataset/train/pizza/786995.jpg'),\n",
              " PosixPath('dataset/train/pizza/2569760.jpg'),\n",
              " PosixPath('dataset/train/pizza/3109486.jpg'),\n",
              " PosixPath('dataset/train/pizza/3821701.jpg'),\n",
              " PosixPath('dataset/train/pizza/667309.jpg'),\n",
              " PosixPath('dataset/train/pizza/2702825.jpg'),\n",
              " PosixPath('dataset/train/pizza/2785084.jpg'),\n",
              " PosixPath('dataset/train/pizza/1033251.jpg'),\n",
              " PosixPath('dataset/train/pizza/764429.jpg'),\n",
              " PosixPath('dataset/train/pizza/2576168.jpg'),\n",
              " PosixPath('dataset/train/pizza/244505.jpg'),\n",
              " PosixPath('dataset/train/pizza/138855.jpg'),\n",
              " PosixPath('dataset/train/pizza/2026009.jpg'),\n",
              " PosixPath('dataset/train/pizza/2885050.jpg'),\n",
              " PosixPath('dataset/train/pizza/1654444.jpg'),\n",
              " PosixPath('dataset/train/pizza/3281494.jpg'),\n",
              " PosixPath('dataset/train/pizza/3505182.jpg'),\n",
              " PosixPath('dataset/train/pizza/2451169.jpg'),\n",
              " PosixPath('dataset/train/pizza/1285298.jpg'),\n",
              " PosixPath('dataset/train/pizza/3530210.jpg'),\n",
              " PosixPath('dataset/train/pizza/2330965.jpg'),\n",
              " PosixPath('dataset/train/pizza/2190018.jpg'),\n",
              " PosixPath('dataset/train/pizza/2992084.jpg'),\n",
              " PosixPath('dataset/train/pizza/2493954.jpg'),\n",
              " PosixPath('dataset/train/pizza/1008844.jpg'),\n",
              " PosixPath('dataset/train/pizza/3196721.jpg'),\n",
              " PosixPath('dataset/train/pizza/2821048.jpg'),\n",
              " PosixPath('dataset/train/pizza/2885796.jpg'),\n",
              " PosixPath('dataset/train/pizza/739735.jpg'),\n",
              " PosixPath('dataset/train/pizza/2382016.jpg'),\n",
              " PosixPath('dataset/train/pizza/1968947.jpg'),\n",
              " PosixPath('dataset/train/pizza/2291093.jpg'),\n",
              " PosixPath('dataset/train/pizza/393658.jpg'),\n",
              " PosixPath('dataset/train/pizza/928670.jpg'),\n",
              " PosixPath('dataset/train/pizza/3441394.jpg'),\n",
              " PosixPath('dataset/train/pizza/3269634.jpg'),\n",
              " PosixPath('dataset/train/pizza/2924941.jpg'),\n",
              " PosixPath('dataset/train/pizza/618348.jpg'),\n",
              " PosixPath('dataset/train/pizza/29417.jpg'),\n",
              " PosixPath('dataset/train/pizza/1412034.jpg'),\n",
              " PosixPath('dataset/train/pizza/702165.jpg'),\n",
              " PosixPath('dataset/train/pizza/2426686.jpg'),\n",
              " PosixPath('dataset/train/pizza/1044789.jpg'),\n",
              " PosixPath('dataset/train/pizza/3018077.jpg'),\n",
              " PosixPath('dataset/train/pizza/1572608.jpg'),\n",
              " PosixPath('dataset/train/pizza/2687575.jpg'),\n",
              " PosixPath('dataset/train/pizza/715169.jpg'),\n",
              " PosixPath('dataset/train/pizza/765799.jpg'),\n",
              " PosixPath('dataset/train/pizza/2228322.jpg'),\n",
              " PosixPath('dataset/train/pizza/2800325.jpg'),\n",
              " PosixPath('dataset/train/pizza/5764.jpg'),\n",
              " PosixPath('dataset/train/pizza/1105700.jpg'),\n",
              " PosixPath('dataset/train/pizza/300869.jpg'),\n",
              " PosixPath('dataset/train/pizza/1649276.jpg'),\n",
              " PosixPath('dataset/train/pizza/38349.jpg'),\n",
              " PosixPath('dataset/train/pizza/3699992.jpg'),\n",
              " PosixPath('dataset/train/pizza/218711.jpg'),\n",
              " PosixPath('dataset/train/pizza/1524655.jpg'),\n",
              " PosixPath('dataset/train/pizza/320570.jpg'),\n",
              " PosixPath('dataset/train/pizza/3338774.jpg'),\n",
              " PosixPath('dataset/train/pizza/1633289.jpg'),\n",
              " PosixPath('dataset/train/pizza/1660415.jpg'),\n",
              " PosixPath('dataset/train/pizza/68684.jpg'),\n",
              " PosixPath('dataset/train/pizza/12301.jpg'),\n",
              " PosixPath('dataset/train/pizza/741883.jpg'),\n",
              " PosixPath('dataset/train/pizza/3589437.jpg'),\n",
              " PosixPath('dataset/train/pizza/1899785.jpg'),\n",
              " PosixPath('dataset/train/pizza/2121603.jpg'),\n",
              " PosixPath('dataset/train/pizza/2285942.jpg'),\n",
              " PosixPath('dataset/train/sushi/307738.jpg'),\n",
              " PosixPath('dataset/train/sushi/748830.jpg'),\n",
              " PosixPath('dataset/train/sushi/3081701.jpg'),\n",
              " PosixPath('dataset/train/sushi/3360207.jpg'),\n",
              " PosixPath('dataset/train/sushi/840444.jpg'),\n",
              " PosixPath('dataset/train/sushi/3360232.jpg'),\n",
              " PosixPath('dataset/train/sushi/14046.jpg'),\n",
              " PosixPath('dataset/train/sushi/3107839.jpg'),\n",
              " PosixPath('dataset/train/sushi/686426.jpg'),\n",
              " PosixPath('dataset/train/sushi/2871052.jpg'),\n",
              " PosixPath('dataset/train/sushi/3579071.jpg'),\n",
              " PosixPath('dataset/train/sushi/1957449.jpg'),\n",
              " PosixPath('dataset/train/sushi/2120573.jpg'),\n",
              " PosixPath('dataset/train/sushi/390178.jpg'),\n",
              " PosixPath('dataset/train/sushi/17704.jpg'),\n",
              " PosixPath('dataset/train/sushi/3737197.jpg'),\n",
              " PosixPath('dataset/train/sushi/169392.jpg'),\n",
              " PosixPath('dataset/train/sushi/2323548.jpg'),\n",
              " PosixPath('dataset/train/sushi/2720223.jpg'),\n",
              " PosixPath('dataset/train/sushi/765684.jpg'),\n",
              " PosixPath('dataset/train/sushi/3004029.jpg'),\n",
              " PosixPath('dataset/train/sushi/1615453.jpg'),\n",
              " PosixPath('dataset/train/sushi/1138695.jpg'),\n",
              " PosixPath('dataset/train/sushi/1552504.jpg'),\n",
              " PosixPath('dataset/train/sushi/2492146.jpg'),\n",
              " PosixPath('dataset/train/sushi/2797464.jpg'),\n",
              " PosixPath('dataset/train/sushi/2004525.jpg'),\n",
              " PosixPath('dataset/train/sushi/2590819.jpg'),\n",
              " PosixPath('dataset/train/sushi/1551817.jpg'),\n",
              " PosixPath('dataset/train/sushi/1232045.jpg'),\n",
              " PosixPath('dataset/train/sushi/2813454.jpg'),\n",
              " PosixPath('dataset/train/sushi/2574453.jpg'),\n",
              " PosixPath('dataset/train/sushi/1280119.jpg'),\n",
              " PosixPath('dataset/train/sushi/855721.jpg'),\n",
              " PosixPath('dataset/train/sushi/497686.jpg'),\n",
              " PosixPath('dataset/train/sushi/2674024.jpg'),\n",
              " PosixPath('dataset/train/sushi/1209865.jpg'),\n",
              " PosixPath('dataset/train/sushi/710379.jpg'),\n",
              " PosixPath('dataset/train/sushi/170385.jpg'),\n",
              " PosixPath('dataset/train/sushi/1575445.jpg'),\n",
              " PosixPath('dataset/train/sushi/377047.jpg'),\n",
              " PosixPath('dataset/train/sushi/1214108.jpg'),\n",
              " PosixPath('dataset/train/sushi/1571146.jpg'),\n",
              " PosixPath('dataset/train/sushi/542188.jpg'),\n",
              " PosixPath('dataset/train/sushi/385154.jpg'),\n",
              " PosixPath('dataset/train/sushi/424994.jpg'),\n",
              " PosixPath('dataset/train/sushi/3353428.jpg'),\n",
              " PosixPath('dataset/train/sushi/200025.jpg'),\n",
              " PosixPath('dataset/train/sushi/929471.jpg'),\n",
              " PosixPath('dataset/train/sushi/1129338.jpg'),\n",
              " PosixPath('dataset/train/sushi/2641778.jpg'),\n",
              " PosixPath('dataset/train/sushi/2873571.jpg'),\n",
              " PosixPath('dataset/train/sushi/794647.jpg'),\n",
              " PosixPath('dataset/train/sushi/2019344.jpg'),\n",
              " PosixPath('dataset/train/sushi/773725.jpg'),\n",
              " PosixPath('dataset/train/sushi/843815.jpg'),\n",
              " PosixPath('dataset/train/sushi/2021685.jpg'),\n",
              " PosixPath('dataset/train/sushi/148799.jpg'),\n",
              " PosixPath('dataset/train/sushi/3251688.jpg'),\n",
              " PosixPath('dataset/train/sushi/121940.jpg'),\n",
              " PosixPath('dataset/train/sushi/2175561.jpg'),\n",
              " PosixPath('dataset/train/sushi/3426958.jpg'),\n",
              " PosixPath('dataset/train/sushi/2980779.jpg'),\n",
              " PosixPath('dataset/train/sushi/2021381.jpg'),\n",
              " PosixPath('dataset/train/sushi/1221830.jpg'),\n",
              " PosixPath('dataset/train/sushi/1070104.jpg'),\n",
              " PosixPath('dataset/train/sushi/700405.jpg'),\n",
              " PosixPath('dataset/train/sushi/821108.jpg'),\n",
              " PosixPath('dataset/train/sushi/93139.jpg'),\n",
              " PosixPath('dataset/train/sushi/2017378.jpg'),\n",
              " PosixPath('dataset/train/sushi/268990.jpg'),\n",
              " PosixPath('dataset/train/sushi/2267190.jpg')]"
            ]
          },
          "metadata": {},
          "execution_count": 96
        }
      ]
    },
    {
      "cell_type": "code",
      "source": [
        "from PIL import Image\n",
        "from torch.utils.data import Dataset\n",
        "\n",
        "class CustomImageLoader(Dataset):\n",
        "  def __init__(self, root_directory, transform=None):\n",
        "    super().__init__()\n",
        "    self.paths = list(Path(root_directory).glob('*/*.jpg'))\n",
        "    self.transfomrs = transform\n",
        "    self.classes = sorted([x.parts[-1] for x in Path(root_directory).iterdir() if x.is_dir()])\n",
        "    self.class_to_idx = {key:idx for idx,key in enumerate(self.classes)}\n",
        "\n",
        "  def __len__(self):\n",
        "    return len(self.paths)\n",
        "\n",
        "  def __getitem__(self, idx):\n",
        "    img = Image.open(self.paths[idx])\n",
        "    label_name = self.paths[idx].parts[-2]\n",
        "    label = self.class_to_idx[label_name]\n",
        "\n",
        "    if transforms:\n",
        "      img = self.transforms(img)\n",
        "\n",
        "    return img, label\n"
      ],
      "metadata": {
        "id": "UJDtWJtO52FG"
      },
      "execution_count": 111,
      "outputs": []
    },
    {
      "cell_type": "code",
      "source": [
        "train_customImageLoader = CustomImageLoader(Path('dataset/train/'))"
      ],
      "metadata": {
        "id": "_nllAar89rXz"
      },
      "execution_count": 112,
      "outputs": []
    },
    {
      "cell_type": "code",
      "source": [
        "train_customImageLoader.paths"
      ],
      "metadata": {
        "id": "hlJNLDJB9-XA"
      },
      "execution_count": null,
      "outputs": []
    },
    {
      "cell_type": "code",
      "source": [
        "train_customImageLoader.classes"
      ],
      "metadata": {
        "colab": {
          "base_uri": "https://localhost:8080/"
        },
        "id": "1HAkzLq4AcWg",
        "outputId": "98941dbc-3464-4577-fb83-d93c6a9fd7a3"
      },
      "execution_count": 105,
      "outputs": [
        {
          "output_type": "execute_result",
          "data": {
            "text/plain": [
              "['steak', 'pizza', 'sushi']"
            ]
          },
          "metadata": {},
          "execution_count": 105
        }
      ]
    },
    {
      "cell_type": "code",
      "source": [
        "train_customImageLoader.class_to_idx"
      ],
      "metadata": {
        "colab": {
          "base_uri": "https://localhost:8080/"
        },
        "id": "0Y8GNhHqA5c-",
        "outputId": "1e1cff78-0bae-4955-db69-a74db1f43a82"
      },
      "execution_count": 109,
      "outputs": [
        {
          "output_type": "execute_result",
          "data": {
            "text/plain": [
              "{'pizza': 0, 'steak': 1, 'sushi': 2}"
            ]
          },
          "metadata": {},
          "execution_count": 109
        }
      ]
    }
  ]
}