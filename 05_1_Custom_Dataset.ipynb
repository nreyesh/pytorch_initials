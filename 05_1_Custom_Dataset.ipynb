{
  "nbformat": 4,
  "nbformat_minor": 0,
  "metadata": {
    "colab": {
      "provenance": [],
      "gpuType": "T4",
      "authorship_tag": "ABX9TyNWFZ8QYHhNR2WuDceqQ2ib",
      "include_colab_link": true
    },
    "kernelspec": {
      "name": "python3",
      "display_name": "Python 3"
    },
    "language_info": {
      "name": "python"
    },
    "accelerator": "GPU"
  },
  "cells": [
    {
      "cell_type": "markdown",
      "metadata": {
        "id": "view-in-github",
        "colab_type": "text"
      },
      "source": [
        "<a href=\"https://colab.research.google.com/github/nreyesh/pytorch_initials/blob/main/05_1_Custom_Dataset.ipynb\" target=\"_parent\"><img src=\"https://colab.research.google.com/assets/colab-badge.svg\" alt=\"Open In Colab\"/></a>"
      ]
    },
    {
      "cell_type": "code",
      "source": [
        "! pip install wget"
      ],
      "metadata": {
        "colab": {
          "base_uri": "https://localhost:8080/"
        },
        "id": "kNkNDeqXih0A",
        "outputId": "c03d4021-97db-48e1-b353-86e59a5d749e"
      },
      "execution_count": 1,
      "outputs": [
        {
          "output_type": "stream",
          "name": "stdout",
          "text": [
            "Collecting wget\n",
            "  Downloading wget-3.2.zip (10 kB)\n",
            "  Preparing metadata (setup.py) ... \u001b[?25l\u001b[?25hdone\n",
            "Building wheels for collected packages: wget\n",
            "  Building wheel for wget (setup.py) ... \u001b[?25l\u001b[?25hdone\n",
            "  Created wheel for wget: filename=wget-3.2-py3-none-any.whl size=9655 sha256=4481446a2446766d11ad37b61fb143d73696e0c4cf7d5bb5ace81fd54e5000b6\n",
            "  Stored in directory: /root/.cache/pip/wheels/8b/f1/7f/5c94f0a7a505ca1c81cd1d9208ae2064675d97582078e6c769\n",
            "Successfully built wget\n",
            "Installing collected packages: wget\n",
            "Successfully installed wget-3.2\n"
          ]
        }
      ]
    },
    {
      "cell_type": "markdown",
      "source": [
        "# 1. Getting the Dataset"
      ],
      "metadata": {
        "id": "4pyBjOI9iihz"
      }
    },
    {
      "cell_type": "code",
      "execution_count": 2,
      "metadata": {
        "colab": {
          "base_uri": "https://localhost:8080/",
          "height": 35
        },
        "id": "wGSCsaGBhg2c",
        "outputId": "45f9c8fb-24b7-4ada-fb61-4e8a5178c3aa"
      },
      "outputs": [
        {
          "output_type": "execute_result",
          "data": {
            "text/plain": [
              "'pizza_steak_sushi.zip'"
            ],
            "application/vnd.google.colaboratory.intrinsic+json": {
              "type": "string"
            }
          },
          "metadata": {},
          "execution_count": 2
        }
      ],
      "source": [
        "import wget\n",
        "\n",
        "url = 'https://github.com/mrdbourke/pytorch-deep-learning/raw/main/data/pizza_steak_sushi.zip'\n",
        "wget.download(url)"
      ]
    },
    {
      "cell_type": "code",
      "source": [
        "import os\n",
        "import zipfile\n",
        "from pathlib import Path\n",
        "\n",
        "data_path = Path('dataset/')\n",
        "zip_path = '/content/pizza_steak_sushi.zip'\n",
        "\n",
        "with zipfile.ZipFile(zip_path, 'r') as zip_ref:\n",
        "    if not os.path.isdir(data_path):\n",
        "        os.mkdir(data_path)\n",
        "    zip_ref.extractall(data_path)"
      ],
      "metadata": {
        "id": "p2ZFkw8Bi0ql"
      },
      "execution_count": 3,
      "outputs": []
    },
    {
      "cell_type": "markdown",
      "source": [
        "# 2. Loading the Data\n",
        "### Option 1: Image Loader"
      ],
      "metadata": {
        "id": "LlNmvkZTv6bM"
      }
    },
    {
      "cell_type": "code",
      "source": [
        "from torchvision.datasets import ImageFolder\n",
        "from torchvision import transforms\n",
        "\n",
        "train_dir = data_path / 'train'\n",
        "test_dir = data_path / 'test'\n",
        "\n",
        "img_size = 64\n",
        "\n",
        "train_transforms = transforms.Compose([\n",
        "        transforms.Resize(size=(img_size,img_size)),\n",
        "        #transforms.RandomHorizontalFlip(p=0.5),\n",
        "        #transforms.TrivialAugmentWide(num_magnitude_bins=5),\n",
        "        transforms.ToTensor()\n",
        "      ])\n",
        "test_transforms = transforms.Compose([\n",
        "        transforms.Resize(size=(img_size,img_size)),\n",
        "        transforms.ToTensor()\n",
        "      ])\n",
        "\n",
        "train_imageFolder = ImageFolder(train_dir,\n",
        "                                transform=train_transforms)\n",
        "\n",
        "test_imageFolder = ImageFolder(test_dir,\n",
        "                               transform=test_transforms)"
      ],
      "metadata": {
        "id": "y_fFcabquqA-"
      },
      "execution_count": 4,
      "outputs": []
    },
    {
      "cell_type": "code",
      "source": [
        "train_imageFolder"
      ],
      "metadata": {
        "colab": {
          "base_uri": "https://localhost:8080/"
        },
        "id": "naziYbru10gi",
        "outputId": "a4b0ade0-9789-4077-df4d-18cdeb85fe0c"
      },
      "execution_count": 5,
      "outputs": [
        {
          "output_type": "execute_result",
          "data": {
            "text/plain": [
              "Dataset ImageFolder\n",
              "    Number of datapoints: 225\n",
              "    Root location: dataset/train\n",
              "    StandardTransform\n",
              "Transform: Compose(\n",
              "               Resize(size=(64, 64), interpolation=bilinear, max_size=None, antialias=warn)\n",
              "               ToTensor()\n",
              "           )"
            ]
          },
          "metadata": {},
          "execution_count": 5
        }
      ]
    },
    {
      "cell_type": "code",
      "source": [
        "train_imageFolder.classes"
      ],
      "metadata": {
        "colab": {
          "base_uri": "https://localhost:8080/"
        },
        "id": "txXWxY7z1YzX",
        "outputId": "48db495d-6f7a-4e9d-93b5-8416964a38cb"
      },
      "execution_count": 6,
      "outputs": [
        {
          "output_type": "execute_result",
          "data": {
            "text/plain": [
              "['pizza', 'steak', 'sushi']"
            ]
          },
          "metadata": {},
          "execution_count": 6
        }
      ]
    },
    {
      "cell_type": "code",
      "source": [
        "train_imageFolder.class_to_idx"
      ],
      "metadata": {
        "colab": {
          "base_uri": "https://localhost:8080/"
        },
        "id": "Ur_e9n2c1wXw",
        "outputId": "61423434-b7e0-4981-cf7a-89e65ff23ab8"
      },
      "execution_count": 7,
      "outputs": [
        {
          "output_type": "execute_result",
          "data": {
            "text/plain": [
              "{'pizza': 0, 'steak': 1, 'sushi': 2}"
            ]
          },
          "metadata": {},
          "execution_count": 7
        }
      ]
    },
    {
      "cell_type": "code",
      "source": [
        "train_imageFolder[0]"
      ],
      "metadata": {
        "colab": {
          "base_uri": "https://localhost:8080/"
        },
        "id": "lkplhf_05QiJ",
        "outputId": "ddefd37b-db2f-4ee3-cd51-6c5e74a87f57"
      },
      "execution_count": 8,
      "outputs": [
        {
          "output_type": "execute_result",
          "data": {
            "text/plain": [
              "(tensor([[[0.1176, 0.1216, 0.1255,  ..., 0.0980, 0.1020, 0.1137],\n",
              "          [0.1294, 0.1294, 0.1294,  ..., 0.0980, 0.0980, 0.1059],\n",
              "          [0.1333, 0.1333, 0.1333,  ..., 0.0941, 0.0980, 0.1020],\n",
              "          ...,\n",
              "          [0.1686, 0.1647, 0.1686,  ..., 0.1255, 0.1098, 0.1098],\n",
              "          [0.1686, 0.1647, 0.1686,  ..., 0.1098, 0.0941, 0.0902],\n",
              "          [0.1647, 0.1647, 0.1686,  ..., 0.0980, 0.0863, 0.0863]],\n",
              " \n",
              "         [[0.0588, 0.0588, 0.0588,  ..., 0.0745, 0.0706, 0.0745],\n",
              "          [0.0627, 0.0627, 0.0627,  ..., 0.0745, 0.0706, 0.0745],\n",
              "          [0.0706, 0.0706, 0.0706,  ..., 0.0745, 0.0745, 0.0706],\n",
              "          ...,\n",
              "          [0.2392, 0.2392, 0.2510,  ..., 0.1373, 0.1333, 0.1255],\n",
              "          [0.2314, 0.2392, 0.2510,  ..., 0.1255, 0.1176, 0.1098],\n",
              "          [0.2275, 0.2353, 0.2431,  ..., 0.1137, 0.1059, 0.1020]],\n",
              " \n",
              "         [[0.0196, 0.0196, 0.0157,  ..., 0.0902, 0.0902, 0.0941],\n",
              "          [0.0196, 0.0157, 0.0196,  ..., 0.0902, 0.0863, 0.0902],\n",
              "          [0.0196, 0.0157, 0.0157,  ..., 0.0902, 0.0902, 0.0902],\n",
              "          ...,\n",
              "          [0.1843, 0.1882, 0.1961,  ..., 0.1490, 0.1333, 0.1294],\n",
              "          [0.1804, 0.1843, 0.1922,  ..., 0.1255, 0.1137, 0.1098],\n",
              "          [0.1765, 0.1804, 0.1882,  ..., 0.1059, 0.0980, 0.1059]]]),\n",
              " 0)"
            ]
          },
          "metadata": {},
          "execution_count": 8
        }
      ]
    },
    {
      "cell_type": "code",
      "source": [
        "from torch.utils.data import DataLoader\n",
        "\n",
        "BATCH_SIZE = 16\n",
        "train_loader = DataLoader(train_imageFolder,\n",
        "                          batch_size=BATCH_SIZE,\n",
        "                          shuffle=True)\n",
        "test_loader = DataLoader(test_imageFolder,\n",
        "                         batch_size=BATCH_SIZE,\n",
        "                         shuffle=True)"
      ],
      "metadata": {
        "id": "m7rDpFTu21LV"
      },
      "execution_count": 9,
      "outputs": []
    },
    {
      "cell_type": "code",
      "source": [
        "imgs, labels = next(iter(train_loader))\n",
        "len(imgs), len(labels)"
      ],
      "metadata": {
        "colab": {
          "base_uri": "https://localhost:8080/"
        },
        "id": "ZBiqUxLp5JZN",
        "outputId": "7866143d-9986-4687-cfdc-9399e7b7b13c"
      },
      "execution_count": 10,
      "outputs": [
        {
          "output_type": "execute_result",
          "data": {
            "text/plain": [
              "(16, 16)"
            ]
          },
          "metadata": {},
          "execution_count": 10
        }
      ]
    },
    {
      "cell_type": "code",
      "source": [
        "len(train_loader)"
      ],
      "metadata": {
        "colab": {
          "base_uri": "https://localhost:8080/"
        },
        "id": "c5qWZTZAZeO4",
        "outputId": "f4ef45ff-0f72-4bd2-b126-ed0832164bb7"
      },
      "execution_count": 11,
      "outputs": [
        {
          "output_type": "execute_result",
          "data": {
            "text/plain": [
              "15"
            ]
          },
          "metadata": {},
          "execution_count": 11
        }
      ]
    },
    {
      "cell_type": "code",
      "source": [
        "labels"
      ],
      "metadata": {
        "colab": {
          "base_uri": "https://localhost:8080/"
        },
        "id": "pvzlQwvY7487",
        "outputId": "8411f57a-b6d3-48a9-bb63-a953cec9edf3"
      },
      "execution_count": 12,
      "outputs": [
        {
          "output_type": "execute_result",
          "data": {
            "text/plain": [
              "tensor([1, 1, 1, 2, 1, 1, 2, 0, 0, 1, 1, 0, 1, 2, 1, 2])"
            ]
          },
          "metadata": {},
          "execution_count": 12
        }
      ]
    },
    {
      "cell_type": "code",
      "source": [],
      "metadata": {
        "id": "ozAgwJTM77gS"
      },
      "execution_count": 12,
      "outputs": []
    },
    {
      "cell_type": "markdown",
      "source": [
        "## Option 2 Custom Image Loader"
      ],
      "metadata": {
        "id": "kJqrscDR53GD"
      }
    },
    {
      "cell_type": "code",
      "source": [
        "aux = Path('dataset/train/').glob('*/*.jpg')\n",
        "aux = list(aux)\n",
        "aux"
      ],
      "metadata": {
        "id": "IsGt1ejN8e5N"
      },
      "execution_count": null,
      "outputs": []
    },
    {
      "cell_type": "code",
      "source": [
        "from PIL import Image\n",
        "from torch.utils.data import Dataset\n",
        "\n",
        "class CustomImageLoader(Dataset):\n",
        "  def __init__(self, root_directory, transform=None):\n",
        "    super().__init__()\n",
        "    self.paths = list(Path(root_directory).glob('*/*.jpg'))\n",
        "    self.transforms = transform\n",
        "    self.classes = sorted([x.parts[-1] for x in Path(root_directory).iterdir() if x.is_dir()])\n",
        "    self.class_to_idx = {key:idx for idx,key in enumerate(self.classes)}\n",
        "\n",
        "  def __len__(self):\n",
        "    return len(self.paths)\n",
        "\n",
        "  def __getitem__(self, idx):\n",
        "    img = Image.open(self.paths[idx])\n",
        "    label_name = self.paths[idx].parts[-2]\n",
        "    label = self.class_to_idx[label_name]\n",
        "\n",
        "    if transforms:\n",
        "      img = self.transforms(img)\n",
        "\n",
        "    return img, label\n"
      ],
      "metadata": {
        "id": "UJDtWJtO52FG"
      },
      "execution_count": 14,
      "outputs": []
    },
    {
      "cell_type": "code",
      "source": [
        "train_customImageLoader = CustomImageLoader('dataset/train/',\n",
        "                                            transform=train_transforms)\n",
        "test_customImageLoader = CustomImageLoader('dataset/test/',\n",
        "                                            transform=test_transforms)"
      ],
      "metadata": {
        "id": "_nllAar89rXz"
      },
      "execution_count": 15,
      "outputs": []
    },
    {
      "cell_type": "code",
      "source": [
        "train_customImageLoader.paths"
      ],
      "metadata": {
        "id": "hlJNLDJB9-XA"
      },
      "execution_count": null,
      "outputs": []
    },
    {
      "cell_type": "code",
      "source": [
        "train_customImageLoader.classes"
      ],
      "metadata": {
        "colab": {
          "base_uri": "https://localhost:8080/"
        },
        "id": "1HAkzLq4AcWg",
        "outputId": "c700d8fd-0092-42e5-8fe5-bd31267ab849"
      },
      "execution_count": 17,
      "outputs": [
        {
          "output_type": "execute_result",
          "data": {
            "text/plain": [
              "['pizza', 'steak', 'sushi']"
            ]
          },
          "metadata": {},
          "execution_count": 17
        }
      ]
    },
    {
      "cell_type": "code",
      "source": [
        "train_customImageLoader.class_to_idx"
      ],
      "metadata": {
        "colab": {
          "base_uri": "https://localhost:8080/"
        },
        "id": "0Y8GNhHqA5c-",
        "outputId": "6cf165a0-b0a5-44b3-9541-73337d629a72"
      },
      "execution_count": 18,
      "outputs": [
        {
          "output_type": "execute_result",
          "data": {
            "text/plain": [
              "{'pizza': 0, 'steak': 1, 'sushi': 2}"
            ]
          },
          "metadata": {},
          "execution_count": 18
        }
      ]
    },
    {
      "cell_type": "code",
      "source": [
        "img, label = train_customImageLoader[0]\n",
        "img.shape, label"
      ],
      "metadata": {
        "colab": {
          "base_uri": "https://localhost:8080/"
        },
        "id": "smV9X5EfCmSB",
        "outputId": "f3d790a5-9789-4c8e-b9e6-0ec6ae9ba5ec"
      },
      "execution_count": 19,
      "outputs": [
        {
          "output_type": "execute_result",
          "data": {
            "text/plain": [
              "(torch.Size([3, 64, 64]), 0)"
            ]
          },
          "metadata": {},
          "execution_count": 19
        }
      ]
    },
    {
      "cell_type": "code",
      "source": [
        "from torch.utils.data import DataLoader\n",
        "\n",
        "train_customDataLoader = DataLoader(train_customImageLoader,\n",
        "                                    batch_size=BATCH_SIZE,\n",
        "                                    shuffle=True)\n",
        "test_customDataLoader = DataLoader(test_customImageLoader,\n",
        "                                   batch_size=BATCH_SIZE,\n",
        "                                   shuffle=True)"
      ],
      "metadata": {
        "id": "t8bBywi0DHaL"
      },
      "execution_count": 20,
      "outputs": []
    },
    {
      "cell_type": "code",
      "source": [
        "imgs, labels = next(iter(train_customDataLoader))\n",
        "imgs.shape, labels.shape"
      ],
      "metadata": {
        "colab": {
          "base_uri": "https://localhost:8080/"
        },
        "id": "bKnCQrOdD8Om",
        "outputId": "43e97c34-d650-4d62-fd46-6d90e9976f09"
      },
      "execution_count": 21,
      "outputs": [
        {
          "output_type": "execute_result",
          "data": {
            "text/plain": [
              "(torch.Size([16, 3, 64, 64]), torch.Size([16]))"
            ]
          },
          "metadata": {},
          "execution_count": 21
        }
      ]
    },
    {
      "cell_type": "code",
      "source": [
        "len(test_customDataLoader)"
      ],
      "metadata": {
        "colab": {
          "base_uri": "https://localhost:8080/"
        },
        "id": "Ef12i-wAZ3AE",
        "outputId": "54a0d182-5d9d-4003-b0b6-db65558025fb"
      },
      "execution_count": 22,
      "outputs": [
        {
          "output_type": "execute_result",
          "data": {
            "text/plain": [
              "5"
            ]
          },
          "metadata": {},
          "execution_count": 22
        }
      ]
    },
    {
      "cell_type": "markdown",
      "source": [
        "# 3. Visualization"
      ],
      "metadata": {
        "id": "-ce97ETiELVv"
      }
    },
    {
      "cell_type": "code",
      "source": [],
      "metadata": {
        "id": "ZwujmGetrzu0"
      },
      "execution_count": 22,
      "outputs": []
    },
    {
      "cell_type": "code",
      "source": [
        "import matplotlib.pyplot as plt\n",
        "\n",
        "batch = next(iter(train_loader))\n",
        "images, labels = batch\n",
        "classes = train_imageFolder.classes\n",
        "\n",
        "fig, axes = plt.subplots(1, 5, figsize=(15, 6))\n",
        "for i in range(5):\n",
        "    axes[i].imshow(images[i].permute(1, 2, 0))  # Assuming images are in (C, H, W) format\n",
        "    axes[i].axis('off')\n",
        "    axes[i].set_title(f\"Label: {classes[labels[i]]}\")\n"
      ],
      "metadata": {
        "id": "AD7RO1yOEPz6",
        "colab": {
          "base_uri": "https://localhost:8080/",
          "height": 188
        },
        "outputId": "cca01248-7995-424f-e756-4cc3f113c27a"
      },
      "execution_count": 23,
      "outputs": [
        {
          "output_type": "display_data",
          "data": {
            "text/plain": [
              "<Figure size 1500x600 with 5 Axes>"
            ],
            "image/png": "[encoded data removed]"
          },
          "metadata": {}
        }
      ]
    },
    {
      "cell_type": "markdown",
      "source": [
        "# Model"
      ],
      "metadata": {
        "id": "7qK0D_8eBud5"
      }
    },
    {
      "cell_type": "code",
      "source": [
        "import torch\n",
        "from torch import nn\n",
        "\n",
        "class MiniVGG(nn.Module):\n",
        "  def __init__(self,\n",
        "               in_channels,\n",
        "               hidden_channels,\n",
        "               n_classes ):\n",
        "    super().__init__()\n",
        "\n",
        "    self.block_1 = nn.Sequential(\n",
        "            nn.Conv2d(in_channels=in_channels,\n",
        "                      out_channels=hidden_channels,\n",
        "                      kernel_size=(3,3),\n",
        "                      stride=1,\n",
        "                      padding=1),\n",
        "            nn.ReLU(),\n",
        "            #nn.BatchNorm2d(hidden_channels),\n",
        "            nn.Conv2d(in_channels=hidden_channels,\n",
        "                      out_channels=hidden_channels,\n",
        "                      kernel_size=(3,3),\n",
        "                      stride=1,\n",
        "                      padding=1),\n",
        "            nn.ReLU(),\n",
        "            #nn.BatchNorm2d(hidden_channels),\n",
        "            nn.MaxPool2d(kernel_size=(2,2),\n",
        "                          stride=2,\n",
        "                          padding=0),\n",
        "            nn.Dropout(0.25)\n",
        "          )\n",
        "\n",
        "    self.block_2 = nn.Sequential(\n",
        "            nn.Conv2d(in_channels=hidden_channels,\n",
        "                      out_channels=hidden_channels,\n",
        "                      kernel_size=(3,3),\n",
        "                      stride=1,\n",
        "                      padding=1),\n",
        "            nn.ReLU(),\n",
        "            #nn.BatchNorm2d(hidden_channels*2),\n",
        "            nn.Conv2d(in_channels=hidden_channels,\n",
        "                      out_channels=hidden_channels,\n",
        "                      kernel_size=(3,3),\n",
        "                      stride=1,\n",
        "                      padding=1),\n",
        "            nn.ReLU(),\n",
        "            #nn.BatchNorm2d(hidden_channels*2),\n",
        "            nn.MaxPool2d(kernel_size=(2,2),\n",
        "                          stride=2,\n",
        "                          padding=0),\n",
        "            #nn.Dropout(0.25)\n",
        "            )\n",
        "\n",
        "\n",
        "    self.classification = nn.Sequential(\n",
        "        nn.Flatten(),\n",
        "        nn.Linear(in_features=hidden_channels*16*16,\n",
        "                  out_features=n_classes)\n",
        "        )\n",
        "\n",
        "  def forward(self, x):\n",
        "    #x = self.block_1(x)\n",
        "    #x = self.block_2(x)\n",
        "    #x = self.linear(x)\n",
        "    #return self.classification(self.block_3(self.block_2(self.block_1(x))))\n",
        "    return self.classification(self.block_2(self.block_1(x)))\n",
        "\n",
        "device = 'cuda' if torch.cuda.is_available() else 'cpu'\n",
        "\n",
        "model = MiniVGG(3,10,3).to(device)\n",
        "model"
      ],
      "metadata": {
        "colab": {
          "base_uri": "https://localhost:8080/"
        },
        "id": "7fZ9vd3zBukg",
        "outputId": "527e2437-75f8-4f6b-fb11-d36253bc43e8"
      },
      "execution_count": 49,
      "outputs": [
        {
          "output_type": "execute_result",
          "data": {
            "text/plain": [
              "MiniVGG(\n",
              "  (conv_block_1): Sequential(\n",
              "    (0): Conv2d(3, 10, kernel_size=(3, 3), stride=(1, 1), padding=(1, 1))\n",
              "    (1): ReLU()\n",
              "    (2): Conv2d(10, 10, kernel_size=(3, 3), stride=(1, 1), padding=(1, 1))\n",
              "    (3): ReLU()\n",
              "    (4): MaxPool2d(kernel_size=2, stride=2, padding=0, dilation=1, ceil_mode=False)\n",
              "  )\n",
              "  (conv_block_2): Sequential(\n",
              "    (0): Conv2d(10, 10, kernel_size=(3, 3), stride=(1, 1), padding=(1, 1))\n",
              "    (1): ReLU()\n",
              "    (2): Conv2d(10, 10, kernel_size=(3, 3), stride=(1, 1), padding=(1, 1))\n",
              "    (3): ReLU()\n",
              "    (4): MaxPool2d(kernel_size=2, stride=2, padding=0, dilation=1, ceil_mode=False)\n",
              "  )\n",
              "  (classifier): Sequential(\n",
              "    (0): Flatten(start_dim=1, end_dim=-1)\n",
              "    (1): Linear(in_features=2560, out_features=3, bias=True)\n",
              "  )\n",
              ")"
            ]
          },
          "metadata": {},
          "execution_count": 49
        }
      ]
    },
    {
      "cell_type": "code",
      "source": [
        "img = torch.randn(1,3,64,64).to(device)\n",
        "pass_1 = model.conv_block_1(img)\n",
        "pass_1.shape"
      ],
      "metadata": {
        "colab": {
          "base_uri": "https://localhost:8080/"
        },
        "id": "-EtAGmkUJRL-",
        "outputId": "4165976b-bbcf-4e9c-fdca-1941923de3a7"
      },
      "execution_count": 51,
      "outputs": [
        {
          "output_type": "execute_result",
          "data": {
            "text/plain": [
              "torch.Size([1, 10, 32, 32])"
            ]
          },
          "metadata": {},
          "execution_count": 51
        }
      ]
    },
    {
      "cell_type": "code",
      "source": [
        "pass_2 = model.conv_block_2(pass_1)\n",
        "pass_2.shape"
      ],
      "metadata": {
        "colab": {
          "base_uri": "https://localhost:8080/"
        },
        "id": "XTl5OaTfKp2d",
        "outputId": "81b306c6-b5b4-498e-8da7-5f7fc539258a"
      },
      "execution_count": 52,
      "outputs": [
        {
          "output_type": "execute_result",
          "data": {
            "text/plain": [
              "torch.Size([1, 10, 16, 16])"
            ]
          },
          "metadata": {},
          "execution_count": 52
        }
      ]
    },
    {
      "cell_type": "code",
      "source": [
        "pass_3 = model.classifier(pass_2)\n",
        "pass_3.shape"
      ],
      "metadata": {
        "colab": {
          "base_uri": "https://localhost:8080/"
        },
        "id": "lo_SH9C6LpJ8",
        "outputId": "89bfe7e1-65b9-48f9-d32e-71cf9c48ebe3"
      },
      "execution_count": 54,
      "outputs": [
        {
          "output_type": "execute_result",
          "data": {
            "text/plain": [
              "torch.Size([1, 3])"
            ]
          },
          "metadata": {},
          "execution_count": 54
        }
      ]
    },
    {
      "cell_type": "code",
      "source": [
        "pass_3"
      ],
      "metadata": {
        "colab": {
          "base_uri": "https://localhost:8080/"
        },
        "id": "wqe8Rcs3Ohab",
        "outputId": "7154cd39-e6bb-46ff-9cd5-fea8af66371d"
      },
      "execution_count": 55,
      "outputs": [
        {
          "output_type": "execute_result",
          "data": {
            "text/plain": [
              "tensor([[-0.0472, -0.0086, -0.0123]], device='cuda:0',\n",
              "       grad_fn=<AddmmBackward0>)"
            ]
          },
          "metadata": {},
          "execution_count": 55
        }
      ]
    },
    {
      "cell_type": "code",
      "source": [
        "!pip install torchinfo"
      ],
      "metadata": {
        "colab": {
          "base_uri": "https://localhost:8080/"
        },
        "id": "fkAr_0UewE_g",
        "outputId": "9da67d9e-be36-491a-920d-8d71eb23b0f6"
      },
      "execution_count": 31,
      "outputs": [
        {
          "output_type": "stream",
          "name": "stdout",
          "text": [
            "Collecting torchinfo\n",
            "  Downloading torchinfo-1.8.0-py3-none-any.whl (23 kB)\n",
            "Installing collected packages: torchinfo\n",
            "Successfully installed torchinfo-1.8.0\n"
          ]
        }
      ]
    },
    {
      "cell_type": "code",
      "source": [
        "from torchinfo import summary\n",
        "\n",
        "summary(model, input_size=[1,3,64,64])"
      ],
      "metadata": {
        "colab": {
          "base_uri": "https://localhost:8080/"
        },
        "id": "wqUk4p6NwJ1m",
        "outputId": "3c040cdd-d6ac-4a5e-fcf5-7d59b86346c9"
      },
      "execution_count": 47,
      "outputs": [
        {
          "output_type": "execute_result",
          "data": {
            "text/plain": [
              "==========================================================================================\n",
              "Layer (type:depth-idx)                   Output Shape              Param #\n",
              "==========================================================================================\n",
              "MiniVGG                                  [1, 3]                    --\n",
              "├─Sequential: 1-1                        [1, 10, 32, 32]           --\n",
              "│    └─Conv2d: 2-1                       [1, 10, 64, 64]           280\n",
              "│    └─ReLU: 2-2                         [1, 10, 64, 64]           --\n",
              "│    └─Conv2d: 2-3                       [1, 10, 64, 64]           910\n",
              "│    └─ReLU: 2-4                         [1, 10, 64, 64]           --\n",
              "│    └─MaxPool2d: 2-5                    [1, 10, 32, 32]           --\n",
              "│    └─Dropout: 2-6                      [1, 10, 32, 32]           --\n",
              "├─Sequential: 1-2                        [1, 10, 16, 16]           --\n",
              "│    └─Conv2d: 2-7                       [1, 10, 32, 32]           910\n",
              "│    └─ReLU: 2-8                         [1, 10, 32, 32]           --\n",
              "│    └─Conv2d: 2-9                       [1, 10, 32, 32]           910\n",
              "│    └─ReLU: 2-10                        [1, 10, 32, 32]           --\n",
              "│    └─MaxPool2d: 2-11                   [1, 10, 16, 16]           --\n",
              "├─Sequential: 1-3                        [1, 3]                    --\n",
              "│    └─Flatten: 2-12                     [1, 2560]                 --\n",
              "│    └─Linear: 2-13                      [1, 3]                    7,683\n",
              "==========================================================================================\n",
              "Total params: 10,693\n",
              "Trainable params: 10,693\n",
              "Non-trainable params: 0\n",
              "Total mult-adds (M): 6.75\n",
              "==========================================================================================\n",
              "Input size (MB): 0.05\n",
              "Forward/backward pass size (MB): 0.82\n",
              "Params size (MB): 0.04\n",
              "Estimated Total Size (MB): 0.91\n",
              "=========================================================================================="
            ]
          },
          "metadata": {},
          "execution_count": 47
        }
      ]
    },
    {
      "cell_type": "markdown",
      "source": [
        "# Training"
      ],
      "metadata": {
        "id": "_hFxQE_4PTUp"
      }
    },
    {
      "cell_type": "code",
      "source": [
        "!pip install torcheval"
      ],
      "metadata": {
        "colab": {
          "base_uri": "https://localhost:8080/"
        },
        "id": "6KE3nbHBXJSO",
        "outputId": "c9255ca4-8f2f-456f-fcd5-305e7c223bd3"
      },
      "execution_count": 33,
      "outputs": [
        {
          "output_type": "stream",
          "name": "stdout",
          "text": [
            "Collecting torcheval\n",
            "  Downloading torcheval-0.0.7-py3-none-any.whl (179 kB)\n",
            "\u001b[?25l     \u001b[90m━━━━━━━━━━━━━━━━━━━━━━━━━━━━━━━━━━━━━━━━\u001b[0m \u001b[32m0.0/179.2 kB\u001b[0m \u001b[31m?\u001b[0m eta \u001b[36m-:--:--\u001b[0m\r\u001b[2K     \u001b[91m━━━━━━━━━\u001b[0m\u001b[90m╺\u001b[0m\u001b[90m━━━━━━━━━━━━━━━━━━━━━━━━━━━━━━\u001b[0m \u001b[32m41.0/179.2 kB\u001b[0m \u001b[31m1.1 MB/s\u001b[0m eta \u001b[36m0:00:01\u001b[0m\r\u001b[2K     \u001b[91m━━━━━━━━━━━━━━━━━━━━━━━━━━━\u001b[0m\u001b[90m╺\u001b[0m\u001b[90m━━━━━━━━━━━━\u001b[0m \u001b[32m122.9/179.2 kB\u001b[0m \u001b[31m1.8 MB/s\u001b[0m eta \u001b[36m0:00:01\u001b[0m\r\u001b[2K     \u001b[90m━━━━━━━━━━━━━━━━━━━━━━━━━━━━━━━━━━━━━━━━\u001b[0m \u001b[32m179.2/179.2 kB\u001b[0m \u001b[31m2.1 MB/s\u001b[0m eta \u001b[36m0:00:00\u001b[0m\n",
            "\u001b[?25hRequirement already satisfied: typing-extensions in /usr/local/lib/python3.10/dist-packages (from torcheval) (4.9.0)\n",
            "Installing collected packages: torcheval\n",
            "Successfully installed torcheval-0.0.7\n"
          ]
        }
      ]
    },
    {
      "cell_type": "code",
      "source": [
        "from torch.optim import Adam, SGD\n",
        "\n",
        "optimizer = Adam(model.parameters(), lr=0.001)\n",
        "#optimizer = SGD(model.parameters(), lr=0.001)\n",
        "loss_fn = nn.CrossEntropyLoss().to(device)"
      ],
      "metadata": {
        "id": "143n10q_OiFL"
      },
      "execution_count": 56,
      "outputs": []
    },
    {
      "cell_type": "code",
      "source": [
        "def train(model: torch.nn.Module,\n",
        "          dataLoader: torch.utils.data.DataLoader,\n",
        "          loss_fn: torch.nn.Module,\n",
        "          optimizer: torch.optim.Optimizer,\n",
        "          metric):\n",
        "\n",
        "  model.train()\n",
        "  train_loss, train_acc = 0, 0\n",
        "  for X, y in dataLoader:\n",
        "    X = X.to(device)\n",
        "    y = y.to(device)\n",
        "\n",
        "    # 1. Predictions\n",
        "    y_pred = model(X)\n",
        "\n",
        "    # 2. Loss calculation\n",
        "    loss = loss_fn(y_pred, y)\n",
        "    train_loss += loss.item()\n",
        "\n",
        "    metric.update(y_pred,y)\n",
        "    train_acc += metric.compute()\n",
        "\n",
        "    # 3. Gradient reset\n",
        "    optimizer.zero_grad()\n",
        "\n",
        "    # 4. Gradient Calculation\n",
        "    loss.backward()\n",
        "\n",
        "    # 5. Updating weights\n",
        "    optimizer.step()\n",
        "\n",
        "  train_loss /= len(dataLoader)\n",
        "  train_acc /= len(dataLoader)\n",
        "\n",
        "  return train_loss, train_acc\n",
        "\n",
        "#print(f'Train loss: {loss_acum:.5f} | Train accuracy: {acc_acum:.2f}')\n",
        "\n",
        "def eval(model: torch.nn.Module,\n",
        "        dataLoader: torch.utils.data.DataLoader,\n",
        "        loss_fn: torch.nn.Module,\n",
        "        metric):\n",
        "\n",
        "  model.eval()\n",
        "  with torch.inference_mode():\n",
        "    test_loss, test_acc = 0, 0\n",
        "    for X,y in dataLoader:\n",
        "      X = X.to(device)\n",
        "      y = y.to(device)\n",
        "\n",
        "      # 1. Predictions\n",
        "      y_pred = model(X)\n",
        "\n",
        "      # 2. Loss calculation\n",
        "      loss = loss_fn(y_pred, y)\n",
        "      test_loss += loss.item()\n",
        "\n",
        "      metric.update(y_pred,y)\n",
        "      test_acc += metric.compute()\n",
        "\n",
        "    test_loss /= len(dataLoader)\n",
        "    test_acc /= len(dataLoader)\n",
        "\n",
        "  return test_loss, test_acc"
      ],
      "metadata": {
        "id": "y4-ovU3vEc8K"
      },
      "execution_count": 63,
      "outputs": []
    },
    {
      "cell_type": "code",
      "source": [
        "from torcheval.metrics import MulticlassAccuracy\n",
        "from torch.nn import Softmax\n",
        "\n",
        "epochs = 5\n",
        "metric = MulticlassAccuracy()\n",
        "\n",
        "model = MiniVGG(3,10,3).to(device)\n",
        "\n",
        "for epoch in range(epochs):\n",
        "  print(f'# Epoch: {epoch}')\n",
        "\n",
        "  train_loss, train_acc = train(model, train_loader, loss_fn, optimizer, metric)\n",
        "  print(f'Train loss: {train_loss:.5f} | Train accuracy: {train_acc:.2f}')\n",
        "\n",
        "  test_loss, test_acc =eval(model, test_loader, loss_fn, metric)\n",
        "  print(f'Test loss: {test_loss:.5f} | Test accuracy: {test_acc:.2f}')"
      ],
      "metadata": {
        "colab": {
          "base_uri": "https://localhost:8080/"
        },
        "id": "mJ6FNFuZUGhK",
        "outputId": "253e8a86-8c20-471a-e58a-316bcf2e9f70"
      },
      "execution_count": 65,
      "outputs": [
        {
          "output_type": "stream",
          "name": "stdout",
          "text": [
            "# Epoch: 0\n",
            "Train loss: 1.09969 | Train accuracy: 0.30\n",
            "Test loss: 1.09502 | Test accuracy: 0.33\n",
            "# Epoch: 1\n",
            "Train loss: 1.09753 | Train accuracy: 0.33\n",
            "Test loss: 1.09562 | Test accuracy: 0.34\n",
            "# Epoch: 2\n",
            "Train loss: 1.09971 | Train accuracy: 0.34\n",
            "Test loss: 1.09518 | Test accuracy: 0.34\n",
            "# Epoch: 3\n",
            "Train loss: 1.09739 | Train accuracy: 0.34\n",
            "Test loss: 1.09552 | Test accuracy: 0.34\n",
            "# Epoch: 4\n",
            "Train loss: 1.09919 | Train accuracy: 0.34\n",
            "Test loss: 1.09536 | Test accuracy: 0.34\n"
          ]
        }
      ]
    },
    {
      "cell_type": "code",
      "source": [
        "input = torch.randn(3, 5, requires_grad=True)\n",
        "input"
      ],
      "metadata": {
        "id": "2KrM2_Ox7L02"
      },
      "execution_count": null,
      "outputs": []
    },
    {
      "cell_type": "code",
      "source": [
        "target = torch.empty(3, dtype=torch.long).random_(5)\n",
        "target"
      ],
      "metadata": {
        "id": "K6KTukWuf6tm"
      },
      "execution_count": null,
      "outputs": []
    },
    {
      "cell_type": "code",
      "source": [
        "metric.update(y_pred,y)\n",
        "metric.compute()"
      ],
      "metadata": {
        "id": "O4hDB5JqB7Y2"
      },
      "execution_count": null,
      "outputs": []
    },
    {
      "cell_type": "code",
      "source": [
        "from torch.nn import Softmax\n",
        "\n",
        "softmax = Softmax()\n",
        "softmax(y_pred)"
      ],
      "metadata": {
        "id": "VXPIBLwHCByJ"
      },
      "execution_count": null,
      "outputs": []
    },
    {
      "cell_type": "code",
      "source": [
        "loss_acum"
      ],
      "metadata": {
        "id": "TtrEfID_CDQ_"
      },
      "execution_count": null,
      "outputs": []
    }
  ]
}