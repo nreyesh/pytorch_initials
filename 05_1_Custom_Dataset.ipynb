{
  "nbformat": 4,
  "nbformat_minor": 0,
  "metadata": {
    "colab": {
      "provenance": [],
      "gpuType": "T4",
      "authorship_tag": "ABX9TyMh5OR/Dye6FURGORvHCjNP",
      "include_colab_link": true
    },
    "kernelspec": {
      "name": "python3",
      "display_name": "Python 3"
    },
    "language_info": {
      "name": "python"
    },
    "accelerator": "GPU"
  },
  "cells": [
    {
      "cell_type": "markdown",
      "metadata": {
        "id": "view-in-github",
        "colab_type": "text"
      },
      "source": [
        "<a href=\"https://colab.research.google.com/github/nreyesh/pytorch_initials/blob/main/05_1_Custom_Dataset.ipynb\" target=\"_parent\"><img src=\"https://colab.research.google.com/assets/colab-badge.svg\" alt=\"Open In Colab\"/></a>"
      ]
    },
    {
      "cell_type": "code",
      "source": [
        "! pip install wget"
      ],
      "metadata": {
        "colab": {
          "base_uri": "https://localhost:8080/"
        },
        "id": "kNkNDeqXih0A",
        "outputId": "0dc549d8-bac6-478a-e77b-b4c6dc157371"
      },
      "execution_count": 26,
      "outputs": [
        {
          "output_type": "stream",
          "name": "stdout",
          "text": [
            "Requirement already satisfied: wget in /usr/local/lib/python3.10/dist-packages (3.2)\n"
          ]
        }
      ]
    },
    {
      "cell_type": "markdown",
      "source": [
        "# 1. Getting the Dataset"
      ],
      "metadata": {
        "id": "4pyBjOI9iihz"
      }
    },
    {
      "cell_type": "code",
      "execution_count": 27,
      "metadata": {
        "colab": {
          "base_uri": "https://localhost:8080/",
          "height": 35
        },
        "id": "wGSCsaGBhg2c",
        "outputId": "6a4d2a4a-c2e7-474d-a5ed-2944cfacfc76"
      },
      "outputs": [
        {
          "output_type": "execute_result",
          "data": {
            "text/plain": [
              "'pizza_steak_sushi (1).zip'"
            ],
            "application/vnd.google.colaboratory.intrinsic+json": {
              "type": "string"
            }
          },
          "metadata": {},
          "execution_count": 27
        }
      ],
      "source": [
        "import wget\n",
        "\n",
        "url = 'https://github.com/mrdbourke/pytorch-deep-learning/raw/main/data/pizza_steak_sushi.zip'\n",
        "wget.download(url)"
      ]
    },
    {
      "cell_type": "code",
      "source": [
        "import os\n",
        "import zipfile\n",
        "from pathlib import Path\n",
        "\n",
        "data_path = Path('dataset/')\n",
        "zip_path = '/content/pizza_steak_sushi.zip'\n",
        "\n",
        "with zipfile.ZipFile(zip_path, 'r') as zip_ref:\n",
        "    if not os.path.isdir(data_path):\n",
        "        os.mkdir(data_path)\n",
        "    zip_ref.extractall(data_path)"
      ],
      "metadata": {
        "id": "p2ZFkw8Bi0ql"
      },
      "execution_count": 28,
      "outputs": []
    },
    {
      "cell_type": "markdown",
      "source": [
        "# 2. Loading the Data\n",
        "### Option 1: Image Loader"
      ],
      "metadata": {
        "id": "LlNmvkZTv6bM"
      }
    },
    {
      "cell_type": "code",
      "source": [
        "from torchvision.datasets import ImageFolder\n",
        "from torchvision import transforms\n",
        "\n",
        "train_dir = data_path / 'train'\n",
        "test_dir = data_path / 'test'\n",
        "\n",
        "img_size = 64\n",
        "\n",
        "train_transforms = transforms.Compose([\n",
        "        transforms.Resize(size=(img_size,img_size)),\n",
        "        #transforms.RandomHorizontalFlip(p=0.5),\n",
        "        #transforms.TrivialAugmentWide(num_magnitude_bins=5),\n",
        "        transforms.ToTensor()\n",
        "      ])\n",
        "test_transforms = transforms.Compose([\n",
        "        transforms.Resize(size=(img_size,img_size)),\n",
        "        transforms.ToTensor()\n",
        "      ])\n",
        "\n",
        "train_imageFolder = ImageFolder(train_dir,\n",
        "                                transform=train_transforms)\n",
        "\n",
        "test_imageFolder = ImageFolder(test_dir,\n",
        "                               transform=test_transforms)"
      ],
      "metadata": {
        "id": "y_fFcabquqA-"
      },
      "execution_count": 29,
      "outputs": []
    },
    {
      "cell_type": "code",
      "source": [
        "train_imageFolder"
      ],
      "metadata": {
        "colab": {
          "base_uri": "https://localhost:8080/"
        },
        "id": "naziYbru10gi",
        "outputId": "209766c8-6ef1-4104-b4ae-27d284f7b817"
      },
      "execution_count": 30,
      "outputs": [
        {
          "output_type": "execute_result",
          "data": {
            "text/plain": [
              "Dataset ImageFolder\n",
              "    Number of datapoints: 225\n",
              "    Root location: dataset/train\n",
              "    StandardTransform\n",
              "Transform: Compose(\n",
              "               Resize(size=(64, 64), interpolation=bilinear, max_size=None, antialias=warn)\n",
              "               ToTensor()\n",
              "           )"
            ]
          },
          "metadata": {},
          "execution_count": 30
        }
      ]
    },
    {
      "cell_type": "code",
      "source": [
        "train_imageFolder.classes"
      ],
      "metadata": {
        "colab": {
          "base_uri": "https://localhost:8080/"
        },
        "id": "txXWxY7z1YzX",
        "outputId": "ce6d1b2f-3f7c-4929-af06-9a11ee7789a1"
      },
      "execution_count": 31,
      "outputs": [
        {
          "output_type": "execute_result",
          "data": {
            "text/plain": [
              "['pizza', 'steak', 'sushi']"
            ]
          },
          "metadata": {},
          "execution_count": 31
        }
      ]
    },
    {
      "cell_type": "code",
      "source": [
        "train_imageFolder.class_to_idx"
      ],
      "metadata": {
        "colab": {
          "base_uri": "https://localhost:8080/"
        },
        "id": "Ur_e9n2c1wXw",
        "outputId": "f5bab9e0-856b-45a6-fa20-dd45dac093ef"
      },
      "execution_count": 32,
      "outputs": [
        {
          "output_type": "execute_result",
          "data": {
            "text/plain": [
              "{'pizza': 0, 'steak': 1, 'sushi': 2}"
            ]
          },
          "metadata": {},
          "execution_count": 32
        }
      ]
    },
    {
      "cell_type": "code",
      "source": [
        "train_imageFolder[0]"
      ],
      "metadata": {
        "colab": {
          "base_uri": "https://localhost:8080/"
        },
        "id": "lkplhf_05QiJ",
        "outputId": "39c43fbb-fe2d-4b35-cabf-332d262eed84"
      },
      "execution_count": 33,
      "outputs": [
        {
          "output_type": "execute_result",
          "data": {
            "text/plain": [
              "(tensor([[[0.1176, 0.1216, 0.1255,  ..., 0.0980, 0.1020, 0.1137],\n",
              "          [0.1294, 0.1294, 0.1294,  ..., 0.0980, 0.0980, 0.1059],\n",
              "          [0.1333, 0.1333, 0.1333,  ..., 0.0941, 0.0980, 0.1020],\n",
              "          ...,\n",
              "          [0.1686, 0.1647, 0.1686,  ..., 0.1255, 0.1098, 0.1098],\n",
              "          [0.1686, 0.1647, 0.1686,  ..., 0.1098, 0.0941, 0.0902],\n",
              "          [0.1647, 0.1647, 0.1686,  ..., 0.0980, 0.0863, 0.0863]],\n",
              " \n",
              "         [[0.0588, 0.0588, 0.0588,  ..., 0.0745, 0.0706, 0.0745],\n",
              "          [0.0627, 0.0627, 0.0627,  ..., 0.0745, 0.0706, 0.0745],\n",
              "          [0.0706, 0.0706, 0.0706,  ..., 0.0745, 0.0745, 0.0706],\n",
              "          ...,\n",
              "          [0.2392, 0.2392, 0.2510,  ..., 0.1373, 0.1333, 0.1255],\n",
              "          [0.2314, 0.2392, 0.2510,  ..., 0.1255, 0.1176, 0.1098],\n",
              "          [0.2275, 0.2353, 0.2431,  ..., 0.1137, 0.1059, 0.1020]],\n",
              " \n",
              "         [[0.0196, 0.0196, 0.0157,  ..., 0.0902, 0.0902, 0.0941],\n",
              "          [0.0196, 0.0157, 0.0196,  ..., 0.0902, 0.0863, 0.0902],\n",
              "          [0.0196, 0.0157, 0.0157,  ..., 0.0902, 0.0902, 0.0902],\n",
              "          ...,\n",
              "          [0.1843, 0.1882, 0.1961,  ..., 0.1490, 0.1333, 0.1294],\n",
              "          [0.1804, 0.1843, 0.1922,  ..., 0.1255, 0.1137, 0.1098],\n",
              "          [0.1765, 0.1804, 0.1882,  ..., 0.1059, 0.0980, 0.1059]]]),\n",
              " 0)"
            ]
          },
          "metadata": {},
          "execution_count": 33
        }
      ]
    },
    {
      "cell_type": "code",
      "source": [
        "from torch.utils.data import DataLoader\n",
        "\n",
        "BATCH_SIZE = 16\n",
        "train_loader = DataLoader(train_imageFolder,\n",
        "                          batch_size=BATCH_SIZE,\n",
        "                          shuffle=True)\n",
        "test_loader = DataLoader(test_imageFolder,\n",
        "                         batch_size=BATCH_SIZE,\n",
        "                         shuffle=True)"
      ],
      "metadata": {
        "id": "m7rDpFTu21LV"
      },
      "execution_count": 34,
      "outputs": []
    },
    {
      "cell_type": "code",
      "source": [
        "imgs, labels = next(iter(train_loader))\n",
        "len(imgs), len(labels)"
      ],
      "metadata": {
        "colab": {
          "base_uri": "https://localhost:8080/"
        },
        "id": "ZBiqUxLp5JZN",
        "outputId": "2cbaea34-76fd-4ada-9885-572a008a9d40"
      },
      "execution_count": 35,
      "outputs": [
        {
          "output_type": "execute_result",
          "data": {
            "text/plain": [
              "(16, 16)"
            ]
          },
          "metadata": {},
          "execution_count": 35
        }
      ]
    },
    {
      "cell_type": "code",
      "source": [
        "len(train_loader)"
      ],
      "metadata": {
        "colab": {
          "base_uri": "https://localhost:8080/"
        },
        "id": "c5qWZTZAZeO4",
        "outputId": "0f0344d5-8871-4adf-bf6f-9c12b79461fb"
      },
      "execution_count": 36,
      "outputs": [
        {
          "output_type": "execute_result",
          "data": {
            "text/plain": [
              "15"
            ]
          },
          "metadata": {},
          "execution_count": 36
        }
      ]
    },
    {
      "cell_type": "code",
      "source": [
        "labels"
      ],
      "metadata": {
        "colab": {
          "base_uri": "https://localhost:8080/"
        },
        "id": "pvzlQwvY7487",
        "outputId": "7b8bab77-3d22-4fef-c2cc-e37b18302361"
      },
      "execution_count": 37,
      "outputs": [
        {
          "output_type": "execute_result",
          "data": {
            "text/plain": [
              "tensor([1, 1, 1, 1, 2, 1, 0, 0, 0, 0, 0, 1, 0, 0, 1, 1])"
            ]
          },
          "metadata": {},
          "execution_count": 37
        }
      ]
    },
    {
      "cell_type": "code",
      "source": [],
      "metadata": {
        "id": "ozAgwJTM77gS"
      },
      "execution_count": 37,
      "outputs": []
    },
    {
      "cell_type": "markdown",
      "source": [
        "## Option 2 Custom Image Loader"
      ],
      "metadata": {
        "id": "kJqrscDR53GD"
      }
    },
    {
      "cell_type": "code",
      "source": [
        "aux = Path('dataset/train/').glob('*/*.jpg')\n",
        "aux = list(aux)\n",
        "aux"
      ],
      "metadata": {
        "id": "IsGt1ejN8e5N",
        "colab": {
          "base_uri": "https://localhost:8080/"
        },
        "outputId": "6f3699b9-3980-4d43-f04f-1ad3545f3d22"
      },
      "execution_count": 38,
      "outputs": [
        {
          "output_type": "execute_result",
          "data": {
            "text/plain": [
              "[PosixPath('dataset/train/sushi/1232045.jpg'),\n",
              " PosixPath('dataset/train/sushi/2574453.jpg'),\n",
              " PosixPath('dataset/train/sushi/2641778.jpg'),\n",
              " PosixPath('dataset/train/sushi/3081701.jpg'),\n",
              " PosixPath('dataset/train/sushi/1575445.jpg'),\n",
              " PosixPath('dataset/train/sushi/855721.jpg'),\n",
              " PosixPath('dataset/train/sushi/390178.jpg'),\n",
              " PosixPath('dataset/train/sushi/2175561.jpg'),\n",
              " PosixPath('dataset/train/sushi/3353428.jpg'),\n",
              " PosixPath('dataset/train/sushi/2980779.jpg'),\n",
              " PosixPath('dataset/train/sushi/497686.jpg'),\n",
              " PosixPath('dataset/train/sushi/200025.jpg'),\n",
              " PosixPath('dataset/train/sushi/14046.jpg'),\n",
              " PosixPath('dataset/train/sushi/2021381.jpg'),\n",
              " PosixPath('dataset/train/sushi/929471.jpg'),\n",
              " PosixPath('dataset/train/sushi/385154.jpg'),\n",
              " PosixPath('dataset/train/sushi/700405.jpg'),\n",
              " PosixPath('dataset/train/sushi/765684.jpg'),\n",
              " PosixPath('dataset/train/sushi/1070104.jpg'),\n",
              " PosixPath('dataset/train/sushi/2004525.jpg'),\n",
              " PosixPath('dataset/train/sushi/3107839.jpg'),\n",
              " PosixPath('dataset/train/sushi/1209865.jpg'),\n",
              " PosixPath('dataset/train/sushi/1552504.jpg'),\n",
              " PosixPath('dataset/train/sushi/843815.jpg'),\n",
              " PosixPath('dataset/train/sushi/2871052.jpg'),\n",
              " PosixPath('dataset/train/sushi/2017378.jpg'),\n",
              " PosixPath('dataset/train/sushi/3360207.jpg'),\n",
              " PosixPath('dataset/train/sushi/3426958.jpg'),\n",
              " PosixPath('dataset/train/sushi/2120573.jpg'),\n",
              " PosixPath('dataset/train/sushi/3360232.jpg'),\n",
              " PosixPath('dataset/train/sushi/2720223.jpg'),\n",
              " PosixPath('dataset/train/sushi/1957449.jpg'),\n",
              " PosixPath('dataset/train/sushi/2019344.jpg'),\n",
              " PosixPath('dataset/train/sushi/794647.jpg'),\n",
              " PosixPath('dataset/train/sushi/2797464.jpg'),\n",
              " PosixPath('dataset/train/sushi/1615453.jpg'),\n",
              " PosixPath('dataset/train/sushi/2813454.jpg'),\n",
              " PosixPath('dataset/train/sushi/821108.jpg'),\n",
              " PosixPath('dataset/train/sushi/686426.jpg'),\n",
              " PosixPath('dataset/train/sushi/1129338.jpg'),\n",
              " PosixPath('dataset/train/sushi/1221830.jpg'),\n",
              " PosixPath('dataset/train/sushi/121940.jpg'),\n",
              " PosixPath('dataset/train/sushi/1551817.jpg'),\n",
              " PosixPath('dataset/train/sushi/148799.jpg'),\n",
              " PosixPath('dataset/train/sushi/3579071.jpg'),\n",
              " PosixPath('dataset/train/sushi/3004029.jpg'),\n",
              " PosixPath('dataset/train/sushi/2021685.jpg'),\n",
              " PosixPath('dataset/train/sushi/268990.jpg'),\n",
              " PosixPath('dataset/train/sushi/377047.jpg'),\n",
              " PosixPath('dataset/train/sushi/3251688.jpg'),\n",
              " PosixPath('dataset/train/sushi/1571146.jpg'),\n",
              " PosixPath('dataset/train/sushi/2323548.jpg'),\n",
              " PosixPath('dataset/train/sushi/169392.jpg'),\n",
              " PosixPath('dataset/train/sushi/170385.jpg'),\n",
              " PosixPath('dataset/train/sushi/3737197.jpg'),\n",
              " PosixPath('dataset/train/sushi/1214108.jpg'),\n",
              " PosixPath('dataset/train/sushi/2590819.jpg'),\n",
              " PosixPath('dataset/train/sushi/307738.jpg'),\n",
              " PosixPath('dataset/train/sushi/773725.jpg'),\n",
              " PosixPath('dataset/train/sushi/710379.jpg'),\n",
              " PosixPath('dataset/train/sushi/840444.jpg'),\n",
              " PosixPath('dataset/train/sushi/93139.jpg'),\n",
              " PosixPath('dataset/train/sushi/17704.jpg'),\n",
              " PosixPath('dataset/train/sushi/1138695.jpg'),\n",
              " PosixPath('dataset/train/sushi/2492146.jpg'),\n",
              " PosixPath('dataset/train/sushi/2674024.jpg'),\n",
              " PosixPath('dataset/train/sushi/424994.jpg'),\n",
              " PosixPath('dataset/train/sushi/2873571.jpg'),\n",
              " PosixPath('dataset/train/sushi/2267190.jpg'),\n",
              " PosixPath('dataset/train/sushi/748830.jpg'),\n",
              " PosixPath('dataset/train/sushi/1280119.jpg'),\n",
              " PosixPath('dataset/train/sushi/542188.jpg'),\n",
              " PosixPath('dataset/train/pizza/928670.jpg'),\n",
              " PosixPath('dataset/train/pizza/393658.jpg'),\n",
              " PosixPath('dataset/train/pizza/786995.jpg'),\n",
              " PosixPath('dataset/train/pizza/2687575.jpg'),\n",
              " PosixPath('dataset/train/pizza/739735.jpg'),\n",
              " PosixPath('dataset/train/pizza/2190018.jpg'),\n",
              " PosixPath('dataset/train/pizza/1033251.jpg'),\n",
              " PosixPath('dataset/train/pizza/2285942.jpg'),\n",
              " PosixPath('dataset/train/pizza/3441394.jpg'),\n",
              " PosixPath('dataset/train/pizza/1899785.jpg'),\n",
              " PosixPath('dataset/train/pizza/3338774.jpg'),\n",
              " PosixPath('dataset/train/pizza/2800325.jpg'),\n",
              " PosixPath('dataset/train/pizza/3281494.jpg'),\n",
              " PosixPath('dataset/train/pizza/2426686.jpg'),\n",
              " PosixPath('dataset/train/pizza/1649276.jpg'),\n",
              " PosixPath('dataset/train/pizza/1044789.jpg'),\n",
              " PosixPath('dataset/train/pizza/3860002.jpg'),\n",
              " PosixPath('dataset/train/pizza/2451169.jpg'),\n",
              " PosixPath('dataset/train/pizza/2154394.jpg'),\n",
              " PosixPath('dataset/train/pizza/1633289.jpg'),\n",
              " PosixPath('dataset/train/pizza/1660415.jpg'),\n",
              " PosixPath('dataset/train/pizza/2569760.jpg'),\n",
              " PosixPath('dataset/train/pizza/3589437.jpg'),\n",
              " PosixPath('dataset/train/pizza/218711.jpg'),\n",
              " PosixPath('dataset/train/pizza/2811032.jpg'),\n",
              " PosixPath('dataset/train/pizza/1654444.jpg'),\n",
              " PosixPath('dataset/train/pizza/2992084.jpg'),\n",
              " PosixPath('dataset/train/pizza/765799.jpg'),\n",
              " PosixPath('dataset/train/pizza/2885796.jpg'),\n",
              " PosixPath('dataset/train/pizza/2026009.jpg'),\n",
              " PosixPath('dataset/train/pizza/2885050.jpg'),\n",
              " PosixPath('dataset/train/pizza/1572608.jpg'),\n",
              " PosixPath('dataset/train/pizza/1285298.jpg'),\n",
              " PosixPath('dataset/train/pizza/853441.jpg'),\n",
              " PosixPath('dataset/train/pizza/702165.jpg'),\n",
              " PosixPath('dataset/train/pizza/5764.jpg'),\n",
              " PosixPath('dataset/train/pizza/2382016.jpg'),\n",
              " PosixPath('dataset/train/pizza/3505182.jpg'),\n",
              " PosixPath('dataset/train/pizza/138855.jpg'),\n",
              " PosixPath('dataset/train/pizza/2760984.jpg'),\n",
              " PosixPath('dataset/train/pizza/3530210.jpg'),\n",
              " PosixPath('dataset/train/pizza/1008844.jpg'),\n",
              " PosixPath('dataset/train/pizza/764429.jpg'),\n",
              " PosixPath('dataset/train/pizza/741883.jpg'),\n",
              " PosixPath('dataset/train/pizza/3699992.jpg'),\n",
              " PosixPath('dataset/train/pizza/715169.jpg'),\n",
              " PosixPath('dataset/train/pizza/38349.jpg'),\n",
              " PosixPath('dataset/train/pizza/1089334.jpg'),\n",
              " PosixPath('dataset/train/pizza/3109486.jpg'),\n",
              " PosixPath('dataset/train/pizza/1524655.jpg'),\n",
              " PosixPath('dataset/train/pizza/1105700.jpg'),\n",
              " PosixPath('dataset/train/pizza/2428085.jpg'),\n",
              " PosixPath('dataset/train/pizza/618348.jpg'),\n",
              " PosixPath('dataset/train/pizza/3821701.jpg'),\n",
              " PosixPath('dataset/train/pizza/12301.jpg'),\n",
              " PosixPath('dataset/train/pizza/2576168.jpg'),\n",
              " PosixPath('dataset/train/pizza/2330965.jpg'),\n",
              " PosixPath('dataset/train/pizza/2821048.jpg'),\n",
              " PosixPath('dataset/train/pizza/220190.jpg'),\n",
              " PosixPath('dataset/train/pizza/667309.jpg'),\n",
              " PosixPath('dataset/train/pizza/1947572.jpg'),\n",
              " PosixPath('dataset/train/pizza/300869.jpg'),\n",
              " PosixPath('dataset/train/pizza/2228322.jpg'),\n",
              " PosixPath('dataset/train/pizza/2291093.jpg'),\n",
              " PosixPath('dataset/train/pizza/2924941.jpg'),\n",
              " PosixPath('dataset/train/pizza/2121603.jpg'),\n",
              " PosixPath('dataset/train/pizza/3269634.jpg'),\n",
              " PosixPath('dataset/train/pizza/2785084.jpg'),\n",
              " PosixPath('dataset/train/pizza/2493954.jpg'),\n",
              " PosixPath('dataset/train/pizza/320570.jpg'),\n",
              " PosixPath('dataset/train/pizza/244505.jpg'),\n",
              " PosixPath('dataset/train/pizza/1968947.jpg'),\n",
              " PosixPath('dataset/train/pizza/1412034.jpg'),\n",
              " PosixPath('dataset/train/pizza/68684.jpg'),\n",
              " PosixPath('dataset/train/pizza/3196721.jpg'),\n",
              " PosixPath('dataset/train/pizza/3018077.jpg'),\n",
              " PosixPath('dataset/train/pizza/29417.jpg'),\n",
              " PosixPath('dataset/train/pizza/2702825.jpg'),\n",
              " PosixPath('dataset/train/steak/2087958.jpg'),\n",
              " PosixPath('dataset/train/steak/75537.jpg'),\n",
              " PosixPath('dataset/train/steak/231296.jpg'),\n",
              " PosixPath('dataset/train/steak/3727036.jpg'),\n",
              " PosixPath('dataset/train/steak/1761285.jpg'),\n",
              " PosixPath('dataset/train/steak/443210.jpg'),\n",
              " PosixPath('dataset/train/steak/2163079.jpg'),\n",
              " PosixPath('dataset/train/steak/2287136.jpg'),\n",
              " PosixPath('dataset/train/steak/2614649.jpg'),\n",
              " PosixPath('dataset/train/steak/2979061.jpg'),\n",
              " PosixPath('dataset/train/steak/2603058.jpg'),\n",
              " PosixPath('dataset/train/steak/3142674.jpg'),\n",
              " PosixPath('dataset/train/steak/2561199.jpg'),\n",
              " PosixPath('dataset/train/steak/2825100.jpg'),\n",
              " PosixPath('dataset/train/steak/97656.jpg'),\n",
              " PosixPath('dataset/train/steak/214320.jpg'),\n",
              " PosixPath('dataset/train/steak/1647351.jpg'),\n",
              " PosixPath('dataset/train/steak/3142045.jpg'),\n",
              " PosixPath('dataset/train/steak/1382427.jpg'),\n",
              " PosixPath('dataset/train/steak/560503.jpg'),\n",
              " PosixPath('dataset/train/steak/165639.jpg'),\n",
              " PosixPath('dataset/train/steak/2629750.jpg'),\n",
              " PosixPath('dataset/train/steak/225990.jpg'),\n",
              " PosixPath('dataset/train/steak/3074367.jpg'),\n",
              " PosixPath('dataset/train/steak/2707522.jpg'),\n",
              " PosixPath('dataset/train/steak/1225762.jpg'),\n",
              " PosixPath('dataset/train/steak/1966300.jpg'),\n",
              " PosixPath('dataset/train/steak/2628106.jpg'),\n",
              " PosixPath('dataset/train/steak/1937872.jpg'),\n",
              " PosixPath('dataset/train/steak/421476.jpg'),\n",
              " PosixPath('dataset/train/steak/2606444.jpg'),\n",
              " PosixPath('dataset/train/steak/2881783.jpg'),\n",
              " PosixPath('dataset/train/steak/167069.jpg'),\n",
              " PosixPath('dataset/train/steak/1624747.jpg'),\n",
              " PosixPath('dataset/train/steak/461689.jpg'),\n",
              " PosixPath('dataset/train/steak/1976160.jpg'),\n",
              " PosixPath('dataset/train/steak/176508.jpg'),\n",
              " PosixPath('dataset/train/steak/830007.jpg'),\n",
              " PosixPath('dataset/train/steak/3727491.jpg'),\n",
              " PosixPath('dataset/train/steak/1736968.jpg'),\n",
              " PosixPath('dataset/train/steak/1961025.jpg'),\n",
              " PosixPath('dataset/train/steak/735441.jpg'),\n",
              " PosixPath('dataset/train/steak/2878151.jpg'),\n",
              " PosixPath('dataset/train/steak/239025.jpg'),\n",
              " PosixPath('dataset/train/steak/1621763.jpg'),\n",
              " PosixPath('dataset/train/steak/937133.jpg'),\n",
              " PosixPath('dataset/train/steak/2614189.jpg'),\n",
              " PosixPath('dataset/train/steak/2880035.jpg'),\n",
              " PosixPath('dataset/train/steak/1264154.jpg'),\n",
              " PosixPath('dataset/train/steak/1849463.jpg'),\n",
              " PosixPath('dataset/train/steak/3518960.jpg'),\n",
              " PosixPath('dataset/train/steak/2324994.jpg'),\n",
              " PosixPath('dataset/train/steak/100135.jpg'),\n",
              " PosixPath('dataset/train/steak/1615395.jpg'),\n",
              " PosixPath('dataset/train/steak/2254705.jpg'),\n",
              " PosixPath('dataset/train/steak/355715.jpg'),\n",
              " PosixPath('dataset/train/steak/339891.jpg'),\n",
              " PosixPath('dataset/train/steak/234626.jpg'),\n",
              " PosixPath('dataset/train/steak/1839481.jpg'),\n",
              " PosixPath('dataset/train/steak/2013535.jpg'),\n",
              " PosixPath('dataset/train/steak/922752.jpg'),\n",
              " PosixPath('dataset/train/steak/1413972.jpg'),\n",
              " PosixPath('dataset/train/steak/3245622.jpg'),\n",
              " PosixPath('dataset/train/steak/256592.jpg'),\n",
              " PosixPath('dataset/train/steak/1787505.jpg'),\n",
              " PosixPath('dataset/train/steak/1598345.jpg'),\n",
              " PosixPath('dataset/train/steak/2222018.jpg'),\n",
              " PosixPath('dataset/train/steak/1257104.jpg'),\n",
              " PosixPath('dataset/train/steak/2648423.jpg'),\n",
              " PosixPath('dataset/train/steak/482022.jpg'),\n",
              " PosixPath('dataset/train/steak/914570.jpg'),\n",
              " PosixPath('dataset/train/steak/2017387.jpg'),\n",
              " PosixPath('dataset/train/steak/3857508.jpg'),\n",
              " PosixPath('dataset/train/steak/2129685.jpg'),\n",
              " PosixPath('dataset/train/steak/3577618.jpg')]"
            ]
          },
          "metadata": {},
          "execution_count": 38
        }
      ]
    },
    {
      "cell_type": "code",
      "source": [
        "from PIL import Image\n",
        "from torch.utils.data import Dataset\n",
        "\n",
        "class CustomImageLoader(Dataset):\n",
        "  def __init__(self, root_directory, transform=None):\n",
        "    super().__init__()\n",
        "    self.paths = list(Path(root_directory).glob('*/*.jpg'))\n",
        "    self.transforms = transform\n",
        "    self.classes = sorted([x.parts[-1] for x in Path(root_directory).iterdir() if x.is_dir()])\n",
        "    self.class_to_idx = {key:idx for idx,key in enumerate(self.classes)}\n",
        "\n",
        "  def __len__(self):\n",
        "    return len(self.paths)\n",
        "\n",
        "  def __getitem__(self, idx):\n",
        "    img = Image.open(self.paths[idx])\n",
        "    label_name = self.paths[idx].parts[-2]\n",
        "    label = self.class_to_idx[label_name]\n",
        "\n",
        "    if transforms:\n",
        "      img = self.transforms(img)\n",
        "\n",
        "    return img, label\n"
      ],
      "metadata": {
        "id": "UJDtWJtO52FG"
      },
      "execution_count": 39,
      "outputs": []
    },
    {
      "cell_type": "code",
      "source": [
        "train_customImageLoader = CustomImageLoader('dataset/train/',\n",
        "                                            transform=train_transforms)\n",
        "test_customImageLoader = CustomImageLoader('dataset/test/',\n",
        "                                            transform=test_transforms)"
      ],
      "metadata": {
        "id": "_nllAar89rXz"
      },
      "execution_count": 40,
      "outputs": []
    },
    {
      "cell_type": "code",
      "source": [
        "train_customImageLoader.paths"
      ],
      "metadata": {
        "id": "hlJNLDJB9-XA",
        "colab": {
          "base_uri": "https://localhost:8080/"
        },
        "outputId": "896acd62-f862-45ea-e97b-c311c936cf93"
      },
      "execution_count": 41,
      "outputs": [
        {
          "output_type": "execute_result",
          "data": {
            "text/plain": [
              "[PosixPath('dataset/train/sushi/1232045.jpg'),\n",
              " PosixPath('dataset/train/sushi/2574453.jpg'),\n",
              " PosixPath('dataset/train/sushi/2641778.jpg'),\n",
              " PosixPath('dataset/train/sushi/3081701.jpg'),\n",
              " PosixPath('dataset/train/sushi/1575445.jpg'),\n",
              " PosixPath('dataset/train/sushi/855721.jpg'),\n",
              " PosixPath('dataset/train/sushi/390178.jpg'),\n",
              " PosixPath('dataset/train/sushi/2175561.jpg'),\n",
              " PosixPath('dataset/train/sushi/3353428.jpg'),\n",
              " PosixPath('dataset/train/sushi/2980779.jpg'),\n",
              " PosixPath('dataset/train/sushi/497686.jpg'),\n",
              " PosixPath('dataset/train/sushi/200025.jpg'),\n",
              " PosixPath('dataset/train/sushi/14046.jpg'),\n",
              " PosixPath('dataset/train/sushi/2021381.jpg'),\n",
              " PosixPath('dataset/train/sushi/929471.jpg'),\n",
              " PosixPath('dataset/train/sushi/385154.jpg'),\n",
              " PosixPath('dataset/train/sushi/700405.jpg'),\n",
              " PosixPath('dataset/train/sushi/765684.jpg'),\n",
              " PosixPath('dataset/train/sushi/1070104.jpg'),\n",
              " PosixPath('dataset/train/sushi/2004525.jpg'),\n",
              " PosixPath('dataset/train/sushi/3107839.jpg'),\n",
              " PosixPath('dataset/train/sushi/1209865.jpg'),\n",
              " PosixPath('dataset/train/sushi/1552504.jpg'),\n",
              " PosixPath('dataset/train/sushi/843815.jpg'),\n",
              " PosixPath('dataset/train/sushi/2871052.jpg'),\n",
              " PosixPath('dataset/train/sushi/2017378.jpg'),\n",
              " PosixPath('dataset/train/sushi/3360207.jpg'),\n",
              " PosixPath('dataset/train/sushi/3426958.jpg'),\n",
              " PosixPath('dataset/train/sushi/2120573.jpg'),\n",
              " PosixPath('dataset/train/sushi/3360232.jpg'),\n",
              " PosixPath('dataset/train/sushi/2720223.jpg'),\n",
              " PosixPath('dataset/train/sushi/1957449.jpg'),\n",
              " PosixPath('dataset/train/sushi/2019344.jpg'),\n",
              " PosixPath('dataset/train/sushi/794647.jpg'),\n",
              " PosixPath('dataset/train/sushi/2797464.jpg'),\n",
              " PosixPath('dataset/train/sushi/1615453.jpg'),\n",
              " PosixPath('dataset/train/sushi/2813454.jpg'),\n",
              " PosixPath('dataset/train/sushi/821108.jpg'),\n",
              " PosixPath('dataset/train/sushi/686426.jpg'),\n",
              " PosixPath('dataset/train/sushi/1129338.jpg'),\n",
              " PosixPath('dataset/train/sushi/1221830.jpg'),\n",
              " PosixPath('dataset/train/sushi/121940.jpg'),\n",
              " PosixPath('dataset/train/sushi/1551817.jpg'),\n",
              " PosixPath('dataset/train/sushi/148799.jpg'),\n",
              " PosixPath('dataset/train/sushi/3579071.jpg'),\n",
              " PosixPath('dataset/train/sushi/3004029.jpg'),\n",
              " PosixPath('dataset/train/sushi/2021685.jpg'),\n",
              " PosixPath('dataset/train/sushi/268990.jpg'),\n",
              " PosixPath('dataset/train/sushi/377047.jpg'),\n",
              " PosixPath('dataset/train/sushi/3251688.jpg'),\n",
              " PosixPath('dataset/train/sushi/1571146.jpg'),\n",
              " PosixPath('dataset/train/sushi/2323548.jpg'),\n",
              " PosixPath('dataset/train/sushi/169392.jpg'),\n",
              " PosixPath('dataset/train/sushi/170385.jpg'),\n",
              " PosixPath('dataset/train/sushi/3737197.jpg'),\n",
              " PosixPath('dataset/train/sushi/1214108.jpg'),\n",
              " PosixPath('dataset/train/sushi/2590819.jpg'),\n",
              " PosixPath('dataset/train/sushi/307738.jpg'),\n",
              " PosixPath('dataset/train/sushi/773725.jpg'),\n",
              " PosixPath('dataset/train/sushi/710379.jpg'),\n",
              " PosixPath('dataset/train/sushi/840444.jpg'),\n",
              " PosixPath('dataset/train/sushi/93139.jpg'),\n",
              " PosixPath('dataset/train/sushi/17704.jpg'),\n",
              " PosixPath('dataset/train/sushi/1138695.jpg'),\n",
              " PosixPath('dataset/train/sushi/2492146.jpg'),\n",
              " PosixPath('dataset/train/sushi/2674024.jpg'),\n",
              " PosixPath('dataset/train/sushi/424994.jpg'),\n",
              " PosixPath('dataset/train/sushi/2873571.jpg'),\n",
              " PosixPath('dataset/train/sushi/2267190.jpg'),\n",
              " PosixPath('dataset/train/sushi/748830.jpg'),\n",
              " PosixPath('dataset/train/sushi/1280119.jpg'),\n",
              " PosixPath('dataset/train/sushi/542188.jpg'),\n",
              " PosixPath('dataset/train/pizza/928670.jpg'),\n",
              " PosixPath('dataset/train/pizza/393658.jpg'),\n",
              " PosixPath('dataset/train/pizza/786995.jpg'),\n",
              " PosixPath('dataset/train/pizza/2687575.jpg'),\n",
              " PosixPath('dataset/train/pizza/739735.jpg'),\n",
              " PosixPath('dataset/train/pizza/2190018.jpg'),\n",
              " PosixPath('dataset/train/pizza/1033251.jpg'),\n",
              " PosixPath('dataset/train/pizza/2285942.jpg'),\n",
              " PosixPath('dataset/train/pizza/3441394.jpg'),\n",
              " PosixPath('dataset/train/pizza/1899785.jpg'),\n",
              " PosixPath('dataset/train/pizza/3338774.jpg'),\n",
              " PosixPath('dataset/train/pizza/2800325.jpg'),\n",
              " PosixPath('dataset/train/pizza/3281494.jpg'),\n",
              " PosixPath('dataset/train/pizza/2426686.jpg'),\n",
              " PosixPath('dataset/train/pizza/1649276.jpg'),\n",
              " PosixPath('dataset/train/pizza/1044789.jpg'),\n",
              " PosixPath('dataset/train/pizza/3860002.jpg'),\n",
              " PosixPath('dataset/train/pizza/2451169.jpg'),\n",
              " PosixPath('dataset/train/pizza/2154394.jpg'),\n",
              " PosixPath('dataset/train/pizza/1633289.jpg'),\n",
              " PosixPath('dataset/train/pizza/1660415.jpg'),\n",
              " PosixPath('dataset/train/pizza/2569760.jpg'),\n",
              " PosixPath('dataset/train/pizza/3589437.jpg'),\n",
              " PosixPath('dataset/train/pizza/218711.jpg'),\n",
              " PosixPath('dataset/train/pizza/2811032.jpg'),\n",
              " PosixPath('dataset/train/pizza/1654444.jpg'),\n",
              " PosixPath('dataset/train/pizza/2992084.jpg'),\n",
              " PosixPath('dataset/train/pizza/765799.jpg'),\n",
              " PosixPath('dataset/train/pizza/2885796.jpg'),\n",
              " PosixPath('dataset/train/pizza/2026009.jpg'),\n",
              " PosixPath('dataset/train/pizza/2885050.jpg'),\n",
              " PosixPath('dataset/train/pizza/1572608.jpg'),\n",
              " PosixPath('dataset/train/pizza/1285298.jpg'),\n",
              " PosixPath('dataset/train/pizza/853441.jpg'),\n",
              " PosixPath('dataset/train/pizza/702165.jpg'),\n",
              " PosixPath('dataset/train/pizza/5764.jpg'),\n",
              " PosixPath('dataset/train/pizza/2382016.jpg'),\n",
              " PosixPath('dataset/train/pizza/3505182.jpg'),\n",
              " PosixPath('dataset/train/pizza/138855.jpg'),\n",
              " PosixPath('dataset/train/pizza/2760984.jpg'),\n",
              " PosixPath('dataset/train/pizza/3530210.jpg'),\n",
              " PosixPath('dataset/train/pizza/1008844.jpg'),\n",
              " PosixPath('dataset/train/pizza/764429.jpg'),\n",
              " PosixPath('dataset/train/pizza/741883.jpg'),\n",
              " PosixPath('dataset/train/pizza/3699992.jpg'),\n",
              " PosixPath('dataset/train/pizza/715169.jpg'),\n",
              " PosixPath('dataset/train/pizza/38349.jpg'),\n",
              " PosixPath('dataset/train/pizza/1089334.jpg'),\n",
              " PosixPath('dataset/train/pizza/3109486.jpg'),\n",
              " PosixPath('dataset/train/pizza/1524655.jpg'),\n",
              " PosixPath('dataset/train/pizza/1105700.jpg'),\n",
              " PosixPath('dataset/train/pizza/2428085.jpg'),\n",
              " PosixPath('dataset/train/pizza/618348.jpg'),\n",
              " PosixPath('dataset/train/pizza/3821701.jpg'),\n",
              " PosixPath('dataset/train/pizza/12301.jpg'),\n",
              " PosixPath('dataset/train/pizza/2576168.jpg'),\n",
              " PosixPath('dataset/train/pizza/2330965.jpg'),\n",
              " PosixPath('dataset/train/pizza/2821048.jpg'),\n",
              " PosixPath('dataset/train/pizza/220190.jpg'),\n",
              " PosixPath('dataset/train/pizza/667309.jpg'),\n",
              " PosixPath('dataset/train/pizza/1947572.jpg'),\n",
              " PosixPath('dataset/train/pizza/300869.jpg'),\n",
              " PosixPath('dataset/train/pizza/2228322.jpg'),\n",
              " PosixPath('dataset/train/pizza/2291093.jpg'),\n",
              " PosixPath('dataset/train/pizza/2924941.jpg'),\n",
              " PosixPath('dataset/train/pizza/2121603.jpg'),\n",
              " PosixPath('dataset/train/pizza/3269634.jpg'),\n",
              " PosixPath('dataset/train/pizza/2785084.jpg'),\n",
              " PosixPath('dataset/train/pizza/2493954.jpg'),\n",
              " PosixPath('dataset/train/pizza/320570.jpg'),\n",
              " PosixPath('dataset/train/pizza/244505.jpg'),\n",
              " PosixPath('dataset/train/pizza/1968947.jpg'),\n",
              " PosixPath('dataset/train/pizza/1412034.jpg'),\n",
              " PosixPath('dataset/train/pizza/68684.jpg'),\n",
              " PosixPath('dataset/train/pizza/3196721.jpg'),\n",
              " PosixPath('dataset/train/pizza/3018077.jpg'),\n",
              " PosixPath('dataset/train/pizza/29417.jpg'),\n",
              " PosixPath('dataset/train/pizza/2702825.jpg'),\n",
              " PosixPath('dataset/train/steak/2087958.jpg'),\n",
              " PosixPath('dataset/train/steak/75537.jpg'),\n",
              " PosixPath('dataset/train/steak/231296.jpg'),\n",
              " PosixPath('dataset/train/steak/3727036.jpg'),\n",
              " PosixPath('dataset/train/steak/1761285.jpg'),\n",
              " PosixPath('dataset/train/steak/443210.jpg'),\n",
              " PosixPath('dataset/train/steak/2163079.jpg'),\n",
              " PosixPath('dataset/train/steak/2287136.jpg'),\n",
              " PosixPath('dataset/train/steak/2614649.jpg'),\n",
              " PosixPath('dataset/train/steak/2979061.jpg'),\n",
              " PosixPath('dataset/train/steak/2603058.jpg'),\n",
              " PosixPath('dataset/train/steak/3142674.jpg'),\n",
              " PosixPath('dataset/train/steak/2561199.jpg'),\n",
              " PosixPath('dataset/train/steak/2825100.jpg'),\n",
              " PosixPath('dataset/train/steak/97656.jpg'),\n",
              " PosixPath('dataset/train/steak/214320.jpg'),\n",
              " PosixPath('dataset/train/steak/1647351.jpg'),\n",
              " PosixPath('dataset/train/steak/3142045.jpg'),\n",
              " PosixPath('dataset/train/steak/1382427.jpg'),\n",
              " PosixPath('dataset/train/steak/560503.jpg'),\n",
              " PosixPath('dataset/train/steak/165639.jpg'),\n",
              " PosixPath('dataset/train/steak/2629750.jpg'),\n",
              " PosixPath('dataset/train/steak/225990.jpg'),\n",
              " PosixPath('dataset/train/steak/3074367.jpg'),\n",
              " PosixPath('dataset/train/steak/2707522.jpg'),\n",
              " PosixPath('dataset/train/steak/1225762.jpg'),\n",
              " PosixPath('dataset/train/steak/1966300.jpg'),\n",
              " PosixPath('dataset/train/steak/2628106.jpg'),\n",
              " PosixPath('dataset/train/steak/1937872.jpg'),\n",
              " PosixPath('dataset/train/steak/421476.jpg'),\n",
              " PosixPath('dataset/train/steak/2606444.jpg'),\n",
              " PosixPath('dataset/train/steak/2881783.jpg'),\n",
              " PosixPath('dataset/train/steak/167069.jpg'),\n",
              " PosixPath('dataset/train/steak/1624747.jpg'),\n",
              " PosixPath('dataset/train/steak/461689.jpg'),\n",
              " PosixPath('dataset/train/steak/1976160.jpg'),\n",
              " PosixPath('dataset/train/steak/176508.jpg'),\n",
              " PosixPath('dataset/train/steak/830007.jpg'),\n",
              " PosixPath('dataset/train/steak/3727491.jpg'),\n",
              " PosixPath('dataset/train/steak/1736968.jpg'),\n",
              " PosixPath('dataset/train/steak/1961025.jpg'),\n",
              " PosixPath('dataset/train/steak/735441.jpg'),\n",
              " PosixPath('dataset/train/steak/2878151.jpg'),\n",
              " PosixPath('dataset/train/steak/239025.jpg'),\n",
              " PosixPath('dataset/train/steak/1621763.jpg'),\n",
              " PosixPath('dataset/train/steak/937133.jpg'),\n",
              " PosixPath('dataset/train/steak/2614189.jpg'),\n",
              " PosixPath('dataset/train/steak/2880035.jpg'),\n",
              " PosixPath('dataset/train/steak/1264154.jpg'),\n",
              " PosixPath('dataset/train/steak/1849463.jpg'),\n",
              " PosixPath('dataset/train/steak/3518960.jpg'),\n",
              " PosixPath('dataset/train/steak/2324994.jpg'),\n",
              " PosixPath('dataset/train/steak/100135.jpg'),\n",
              " PosixPath('dataset/train/steak/1615395.jpg'),\n",
              " PosixPath('dataset/train/steak/2254705.jpg'),\n",
              " PosixPath('dataset/train/steak/355715.jpg'),\n",
              " PosixPath('dataset/train/steak/339891.jpg'),\n",
              " PosixPath('dataset/train/steak/234626.jpg'),\n",
              " PosixPath('dataset/train/steak/1839481.jpg'),\n",
              " PosixPath('dataset/train/steak/2013535.jpg'),\n",
              " PosixPath('dataset/train/steak/922752.jpg'),\n",
              " PosixPath('dataset/train/steak/1413972.jpg'),\n",
              " PosixPath('dataset/train/steak/3245622.jpg'),\n",
              " PosixPath('dataset/train/steak/256592.jpg'),\n",
              " PosixPath('dataset/train/steak/1787505.jpg'),\n",
              " PosixPath('dataset/train/steak/1598345.jpg'),\n",
              " PosixPath('dataset/train/steak/2222018.jpg'),\n",
              " PosixPath('dataset/train/steak/1257104.jpg'),\n",
              " PosixPath('dataset/train/steak/2648423.jpg'),\n",
              " PosixPath('dataset/train/steak/482022.jpg'),\n",
              " PosixPath('dataset/train/steak/914570.jpg'),\n",
              " PosixPath('dataset/train/steak/2017387.jpg'),\n",
              " PosixPath('dataset/train/steak/3857508.jpg'),\n",
              " PosixPath('dataset/train/steak/2129685.jpg'),\n",
              " PosixPath('dataset/train/steak/3577618.jpg')]"
            ]
          },
          "metadata": {},
          "execution_count": 41
        }
      ]
    },
    {
      "cell_type": "code",
      "source": [
        "train_customImageLoader.classes"
      ],
      "metadata": {
        "colab": {
          "base_uri": "https://localhost:8080/"
        },
        "id": "1HAkzLq4AcWg",
        "outputId": "c0afc587-c6e1-4364-dc4b-38bd6160d8b9"
      },
      "execution_count": 42,
      "outputs": [
        {
          "output_type": "execute_result",
          "data": {
            "text/plain": [
              "['pizza', 'steak', 'sushi']"
            ]
          },
          "metadata": {},
          "execution_count": 42
        }
      ]
    },
    {
      "cell_type": "code",
      "source": [
        "train_customImageLoader.class_to_idx"
      ],
      "metadata": {
        "colab": {
          "base_uri": "https://localhost:8080/"
        },
        "id": "0Y8GNhHqA5c-",
        "outputId": "1f56ef8a-d2a1-4c0d-c873-6c4ba50a6ecb"
      },
      "execution_count": 43,
      "outputs": [
        {
          "output_type": "execute_result",
          "data": {
            "text/plain": [
              "{'pizza': 0, 'steak': 1, 'sushi': 2}"
            ]
          },
          "metadata": {},
          "execution_count": 43
        }
      ]
    },
    {
      "cell_type": "code",
      "source": [
        "img, label = train_customImageLoader[0]\n",
        "img.shape, label"
      ],
      "metadata": {
        "colab": {
          "base_uri": "https://localhost:8080/"
        },
        "id": "smV9X5EfCmSB",
        "outputId": "eb9cdc1b-c4fc-4ad1-b880-b0c7bb6ad84b"
      },
      "execution_count": 44,
      "outputs": [
        {
          "output_type": "execute_result",
          "data": {
            "text/plain": [
              "(torch.Size([3, 64, 64]), 2)"
            ]
          },
          "metadata": {},
          "execution_count": 44
        }
      ]
    },
    {
      "cell_type": "code",
      "source": [
        "from torch.utils.data import DataLoader\n",
        "\n",
        "train_customDataLoader = DataLoader(train_customImageLoader,\n",
        "                                    batch_size=BATCH_SIZE,\n",
        "                                    shuffle=True)\n",
        "test_customDataLoader = DataLoader(test_customImageLoader,\n",
        "                                   batch_size=BATCH_SIZE,\n",
        "                                   shuffle=True)"
      ],
      "metadata": {
        "id": "t8bBywi0DHaL"
      },
      "execution_count": 45,
      "outputs": []
    },
    {
      "cell_type": "code",
      "source": [
        "imgs, labels = next(iter(train_customDataLoader))\n",
        "imgs.shape, labels.shape"
      ],
      "metadata": {
        "colab": {
          "base_uri": "https://localhost:8080/"
        },
        "id": "bKnCQrOdD8Om",
        "outputId": "170d68e9-0b7d-4950-b886-009da3667a8e"
      },
      "execution_count": 46,
      "outputs": [
        {
          "output_type": "execute_result",
          "data": {
            "text/plain": [
              "(torch.Size([16, 3, 64, 64]), torch.Size([16]))"
            ]
          },
          "metadata": {},
          "execution_count": 46
        }
      ]
    },
    {
      "cell_type": "code",
      "source": [
        "len(test_customDataLoader)"
      ],
      "metadata": {
        "colab": {
          "base_uri": "https://localhost:8080/"
        },
        "id": "Ef12i-wAZ3AE",
        "outputId": "7ed5233b-da55-40f1-cb6c-f4d717cec093"
      },
      "execution_count": 47,
      "outputs": [
        {
          "output_type": "execute_result",
          "data": {
            "text/plain": [
              "5"
            ]
          },
          "metadata": {},
          "execution_count": 47
        }
      ]
    },
    {
      "cell_type": "markdown",
      "source": [
        "# 3. Visualization"
      ],
      "metadata": {
        "id": "-ce97ETiELVv"
      }
    },
    {
      "cell_type": "code",
      "source": [],
      "metadata": {
        "id": "ZwujmGetrzu0"
      },
      "execution_count": 47,
      "outputs": []
    },
    {
      "cell_type": "code",
      "source": [
        "import matplotlib.pyplot as plt\n",
        "\n",
        "batch = next(iter(train_loader))\n",
        "images, labels = batch\n",
        "classes = train_imageFolder.classes\n",
        "\n",
        "fig, axes = plt.subplots(1, 5, figsize=(15, 6))\n",
        "for i in range(5):\n",
        "    axes[i].imshow(images[i].permute(1, 2, 0))  # Assuming images are in (C, H, W) format\n",
        "    axes[i].axis('off')\n",
        "    axes[i].set_title(f\"Label: {classes[labels[i]]}\")\n"
      ],
      "metadata": {
        "id": "AD7RO1yOEPz6",
        "colab": {
          "base_uri": "https://localhost:8080/",
          "height": 188
        },
        "outputId": "a0bd066d-1ffb-4601-822f-8e813a105149"
      },
      "execution_count": 48,
      "outputs": [
        {
          "output_type": "display_data",
          "data": {
            "text/plain": [
              "<Figure size 1500x600 with 5 Axes>"
            ],
            "image/png": "[encoded data removed]"
          },
          "metadata": {}
        }
      ]
    },
    {
      "cell_type": "markdown",
      "source": [
        "# Model"
      ],
      "metadata": {
        "id": "7qK0D_8eBud5"
      }
    },
    {
      "cell_type": "code",
      "source": [
        "import torch\n",
        "from torch import nn\n",
        "\n",
        "class MiniVGG(nn.Module):\n",
        "  def __init__(self,\n",
        "               in_channels,\n",
        "               hidden_channels,\n",
        "               n_classes ):\n",
        "    super().__init__()\n",
        "\n",
        "    self.block_1 = nn.Sequential(\n",
        "            nn.Conv2d(in_channels=in_channels,\n",
        "                      out_channels=hidden_channels,\n",
        "                      kernel_size=(3,3),\n",
        "                      stride=1,\n",
        "                      padding=1),\n",
        "            nn.ReLU(),\n",
        "            #nn.BatchNorm2d(hidden_channels),\n",
        "            nn.Conv2d(in_channels=hidden_channels,\n",
        "                      out_channels=hidden_channels,\n",
        "                      kernel_size=(3,3),\n",
        "                      stride=1,\n",
        "                      padding=1),\n",
        "            nn.ReLU(),\n",
        "            #nn.BatchNorm2d(hidden_channels),\n",
        "            nn.MaxPool2d(kernel_size=(2,2),\n",
        "                          stride=2,\n",
        "                          padding=0),\n",
        "            nn.Dropout(0.25)\n",
        "          )\n",
        "\n",
        "    self.block_2 = nn.Sequential(\n",
        "            nn.Conv2d(in_channels=hidden_channels,\n",
        "                      out_channels=hidden_channels*2,\n",
        "                      kernel_size=(3,3),\n",
        "                      stride=1,\n",
        "                      padding=1),\n",
        "            nn.ReLU(),\n",
        "            #nn.BatchNorm2d(hidden_channels*2),\n",
        "            nn.Conv2d(in_channels=hidden_channels*2,\n",
        "                      out_channels=hidden_channels*2,\n",
        "                      kernel_size=(3,3),\n",
        "                      stride=1,\n",
        "                      padding=1),\n",
        "            nn.ReLU(),\n",
        "            #nn.BatchNorm2d(hidden_channels*2),\n",
        "            nn.MaxPool2d(kernel_size=(2,2),\n",
        "                          stride=2,\n",
        "                          padding=0),\n",
        "            nn.Dropout(0.25)\n",
        "            )\n",
        "\n",
        "    self.block_3 = nn.Sequential(\n",
        "            nn.Conv2d(in_channels=hidden_channels*2,\n",
        "                      out_channels=hidden_channels*4,\n",
        "                      kernel_size=(3,3),\n",
        "                      stride=1,\n",
        "                      padding=1),\n",
        "            nn.ReLU(),\n",
        "            #nn.BatchNorm2d(hidden_channels*2),\n",
        "            nn.Conv2d(in_channels=hidden_channels*4,\n",
        "                      out_channels=hidden_channels*4,\n",
        "                      kernel_size=(3,3),\n",
        "                      stride=1,\n",
        "                      padding=1),\n",
        "            nn.ReLU(),\n",
        "            #nn.BatchNorm2d(hidden_channels*2),\n",
        "            nn.MaxPool2d(kernel_size=(2,2),\n",
        "                          stride=2,\n",
        "                          padding=0),\n",
        "            nn.Dropout(0.25)\n",
        "            )\n",
        "\n",
        "    self.classification = nn.Sequential(\n",
        "        nn.Flatten(),\n",
        "        nn.Linear(in_features=hidden_channels*4*8*8,\n",
        "                  out_features=n_classes)\n",
        "        )\n",
        "\n",
        "  def forward(self, x):\n",
        "    #x = self.block_1(x)\n",
        "    #x = self.block_2(x)\n",
        "    #x = self.linear(x)\n",
        "    return self.classification(self.block_3(self.block_2(self.block_1(x))))\n",
        "\n",
        "device = 'cuda' if torch.cuda.is_available() else 'cpu'\n",
        "\n",
        "model = MiniVGG(3,10,3).to(device)\n",
        "model"
      ],
      "metadata": {
        "colab": {
          "base_uri": "https://localhost:8080/"
        },
        "id": "7fZ9vd3zBukg",
        "outputId": "ec6a1b6e-0a89-4ec5-cc8e-63973b925ef5"
      },
      "execution_count": 49,
      "outputs": [
        {
          "output_type": "execute_result",
          "data": {
            "text/plain": [
              "MiniVGG(\n",
              "  (block_1): Sequential(\n",
              "    (0): Conv2d(3, 10, kernel_size=(3, 3), stride=(1, 1), padding=(1, 1))\n",
              "    (1): ReLU()\n",
              "    (2): Conv2d(10, 10, kernel_size=(3, 3), stride=(1, 1), padding=(1, 1))\n",
              "    (3): ReLU()\n",
              "    (4): MaxPool2d(kernel_size=(2, 2), stride=2, padding=0, dilation=1, ceil_mode=False)\n",
              "    (5): Dropout(p=0.25, inplace=False)\n",
              "  )\n",
              "  (block_2): Sequential(\n",
              "    (0): Conv2d(10, 20, kernel_size=(3, 3), stride=(1, 1), padding=(1, 1))\n",
              "    (1): ReLU()\n",
              "    (2): Conv2d(20, 20, kernel_size=(3, 3), stride=(1, 1), padding=(1, 1))\n",
              "    (3): ReLU()\n",
              "    (4): MaxPool2d(kernel_size=(2, 2), stride=2, padding=0, dilation=1, ceil_mode=False)\n",
              "    (5): Dropout(p=0.25, inplace=False)\n",
              "  )\n",
              "  (block_3): Sequential(\n",
              "    (0): Conv2d(20, 40, kernel_size=(3, 3), stride=(1, 1), padding=(1, 1))\n",
              "    (1): ReLU()\n",
              "    (2): Conv2d(40, 40, kernel_size=(3, 3), stride=(1, 1), padding=(1, 1))\n",
              "    (3): ReLU()\n",
              "    (4): MaxPool2d(kernel_size=(2, 2), stride=2, padding=0, dilation=1, ceil_mode=False)\n",
              "    (5): Dropout(p=0.25, inplace=False)\n",
              "  )\n",
              "  (classification): Sequential(\n",
              "    (0): Flatten(start_dim=1, end_dim=-1)\n",
              "    (1): Linear(in_features=2560, out_features=3, bias=True)\n",
              "  )\n",
              ")"
            ]
          },
          "metadata": {},
          "execution_count": 49
        }
      ]
    },
    {
      "cell_type": "code",
      "source": [
        "img = torch.randn(1,3,64,64).to(device)\n",
        "pass_1 = model.block_1(img)\n",
        "pass_1.shape"
      ],
      "metadata": {
        "colab": {
          "base_uri": "https://localhost:8080/"
        },
        "id": "-EtAGmkUJRL-",
        "outputId": "c8356e22-d987-4c5f-ad8a-be42a649d4f2"
      },
      "execution_count": 50,
      "outputs": [
        {
          "output_type": "execute_result",
          "data": {
            "text/plain": [
              "torch.Size([1, 10, 32, 32])"
            ]
          },
          "metadata": {},
          "execution_count": 50
        }
      ]
    },
    {
      "cell_type": "code",
      "source": [
        "pass_2 = model.block_2(pass_1)\n",
        "pass_2.shape"
      ],
      "metadata": {
        "colab": {
          "base_uri": "https://localhost:8080/"
        },
        "id": "XTl5OaTfKp2d",
        "outputId": "f53f489c-f94e-46cb-fda9-1517b3ee6e70"
      },
      "execution_count": 51,
      "outputs": [
        {
          "output_type": "execute_result",
          "data": {
            "text/plain": [
              "torch.Size([1, 20, 16, 16])"
            ]
          },
          "metadata": {},
          "execution_count": 51
        }
      ]
    },
    {
      "cell_type": "code",
      "source": [
        "pass_3 = model.block_3(pass_2)\n",
        "pass_3.shape"
      ],
      "metadata": {
        "colab": {
          "base_uri": "https://localhost:8080/"
        },
        "id": "X0iFeWem0yU1",
        "outputId": "518a753c-e0e7-4660-b784-54dbbbb4604e"
      },
      "execution_count": 52,
      "outputs": [
        {
          "output_type": "execute_result",
          "data": {
            "text/plain": [
              "torch.Size([1, 40, 8, 8])"
            ]
          },
          "metadata": {},
          "execution_count": 52
        }
      ]
    },
    {
      "cell_type": "code",
      "source": [
        "pass_3 = model.classification(pass_3)\n",
        "pass_3.shape"
      ],
      "metadata": {
        "colab": {
          "base_uri": "https://localhost:8080/"
        },
        "id": "lo_SH9C6LpJ8",
        "outputId": "34d462c7-d2cc-4526-eca4-61ed2e32b204"
      },
      "execution_count": 53,
      "outputs": [
        {
          "output_type": "execute_result",
          "data": {
            "text/plain": [
              "torch.Size([1, 3])"
            ]
          },
          "metadata": {},
          "execution_count": 53
        }
      ]
    },
    {
      "cell_type": "code",
      "source": [
        "40*8*8"
      ],
      "metadata": {
        "colab": {
          "base_uri": "https://localhost:8080/"
        },
        "id": "4DFhiRil1jie",
        "outputId": "d987035a-17d6-42b2-fe32-aac46c53af4e"
      },
      "execution_count": 54,
      "outputs": [
        {
          "output_type": "execute_result",
          "data": {
            "text/plain": [
              "2560"
            ]
          },
          "metadata": {},
          "execution_count": 54
        }
      ]
    },
    {
      "cell_type": "code",
      "source": [
        "pass_3"
      ],
      "metadata": {
        "colab": {
          "base_uri": "https://localhost:8080/"
        },
        "id": "wqe8Rcs3Ohab",
        "outputId": "9c47b552-73bc-4018-8ca5-342285e240ff"
      },
      "execution_count": 55,
      "outputs": [
        {
          "output_type": "execute_result",
          "data": {
            "text/plain": [
              "tensor([[-0.0657,  0.0106,  0.0160]], grad_fn=<AddmmBackward0>)"
            ]
          },
          "metadata": {},
          "execution_count": 55
        }
      ]
    },
    {
      "cell_type": "code",
      "source": [
        "!pip install torchinfo"
      ],
      "metadata": {
        "colab": {
          "base_uri": "https://localhost:8080/"
        },
        "id": "fkAr_0UewE_g",
        "outputId": "8ec24654-aea6-43c1-d5c5-f6cd0c06eaab"
      },
      "execution_count": 56,
      "outputs": [
        {
          "output_type": "stream",
          "name": "stdout",
          "text": [
            "Collecting torchinfo\n",
            "  Downloading torchinfo-1.8.0-py3-none-any.whl (23 kB)\n",
            "Installing collected packages: torchinfo\n",
            "Successfully installed torchinfo-1.8.0\n"
          ]
        }
      ]
    },
    {
      "cell_type": "code",
      "source": [
        "from torchinfo import summary\n",
        "\n",
        "summary(model, input_size=[1,3,64,64])"
      ],
      "metadata": {
        "colab": {
          "base_uri": "https://localhost:8080/"
        },
        "id": "wqUk4p6NwJ1m",
        "outputId": "1b2c2808-5612-4e24-afc3-5aca10bde9f5"
      },
      "execution_count": 57,
      "outputs": [
        {
          "output_type": "execute_result",
          "data": {
            "text/plain": [
              "==========================================================================================\n",
              "Layer (type:depth-idx)                   Output Shape              Param #\n",
              "==========================================================================================\n",
              "MiniVGG                                  [1, 3]                    --\n",
              "├─Sequential: 1-1                        [1, 10, 32, 32]           --\n",
              "│    └─Conv2d: 2-1                       [1, 10, 64, 64]           280\n",
              "│    └─ReLU: 2-2                         [1, 10, 64, 64]           --\n",
              "│    └─Conv2d: 2-3                       [1, 10, 64, 64]           910\n",
              "│    └─ReLU: 2-4                         [1, 10, 64, 64]           --\n",
              "│    └─MaxPool2d: 2-5                    [1, 10, 32, 32]           --\n",
              "│    └─Dropout: 2-6                      [1, 10, 32, 32]           --\n",
              "├─Sequential: 1-2                        [1, 20, 16, 16]           --\n",
              "│    └─Conv2d: 2-7                       [1, 20, 32, 32]           1,820\n",
              "│    └─ReLU: 2-8                         [1, 20, 32, 32]           --\n",
              "│    └─Conv2d: 2-9                       [1, 20, 32, 32]           3,620\n",
              "│    └─ReLU: 2-10                        [1, 20, 32, 32]           --\n",
              "│    └─MaxPool2d: 2-11                   [1, 20, 16, 16]           --\n",
              "│    └─Dropout: 2-12                     [1, 20, 16, 16]           --\n",
              "├─Sequential: 1-3                        [1, 40, 8, 8]             --\n",
              "│    └─Conv2d: 2-13                      [1, 40, 16, 16]           7,240\n",
              "│    └─ReLU: 2-14                        [1, 40, 16, 16]           --\n",
              "│    └─Conv2d: 2-15                      [1, 40, 16, 16]           14,440\n",
              "│    └─ReLU: 2-16                        [1, 40, 16, 16]           --\n",
              "│    └─MaxPool2d: 2-17                   [1, 40, 8, 8]             --\n",
              "│    └─Dropout: 2-18                     [1, 40, 8, 8]             --\n",
              "├─Sequential: 1-4                        [1, 3]                    --\n",
              "│    └─Flatten: 2-19                     [1, 2560]                 --\n",
              "│    └─Linear: 2-20                      [1, 3]                    7,683\n",
              "==========================================================================================\n",
              "Total params: 35,993\n",
              "Trainable params: 35,993\n",
              "Non-trainable params: 0\n",
              "Total mult-adds (M): 16.00\n",
              "==========================================================================================\n",
              "Input size (MB): 0.05\n",
              "Forward/backward pass size (MB): 1.15\n",
              "Params size (MB): 0.14\n",
              "Estimated Total Size (MB): 1.34\n",
              "=========================================================================================="
            ]
          },
          "metadata": {},
          "execution_count": 57
        }
      ]
    },
    {
      "cell_type": "markdown",
      "source": [
        "# Training"
      ],
      "metadata": {
        "id": "_hFxQE_4PTUp"
      }
    },
    {
      "cell_type": "code",
      "source": [
        "!pip install torcheval"
      ],
      "metadata": {
        "colab": {
          "base_uri": "https://localhost:8080/"
        },
        "id": "6KE3nbHBXJSO",
        "outputId": "2d34b595-c391-431c-9e0d-8ceadbe4943a"
      },
      "execution_count": 58,
      "outputs": [
        {
          "output_type": "stream",
          "name": "stdout",
          "text": [
            "Collecting torcheval\n",
            "  Downloading torcheval-0.0.7-py3-none-any.whl (179 kB)\n",
            "\u001b[2K     \u001b[90m━━━━━━━━━━━━━━━━━━━━━━━━━━━━━━━━━━━━━━━━\u001b[0m \u001b[32m179.2/179.2 kB\u001b[0m \u001b[31m1.7 MB/s\u001b[0m eta \u001b[36m0:00:00\u001b[0m\n",
            "\u001b[?25hRequirement already satisfied: typing-extensions in /usr/local/lib/python3.10/dist-packages (from torcheval) (4.9.0)\n",
            "Installing collected packages: torcheval\n",
            "Successfully installed torcheval-0.0.7\n"
          ]
        }
      ]
    },
    {
      "cell_type": "code",
      "source": [
        "from torch.optim import Adam, SGD\n",
        "\n",
        "optimizer = Adam(model.parameters(), lr=0.001)\n",
        "#optimizer = SGD(model.parameters(), lr=0.001)\n",
        "loss_fn = nn.CrossEntropyLoss().to(device)"
      ],
      "metadata": {
        "id": "143n10q_OiFL"
      },
      "execution_count": 76,
      "outputs": []
    },
    {
      "cell_type": "code",
      "source": [
        "from torcheval.metrics import MulticlassAccuracy\n",
        "from torch.nn import Softmax\n",
        "\n",
        "epochs = 15\n",
        "metric = MulticlassAccuracy()\n",
        "\n",
        "model = MiniVGG(3,10,3).to(device)\n",
        "\n",
        "for epoch in range(epochs):\n",
        "  print(f'# Epoch: {epoch}')\n",
        "  # Train Initialization\n",
        "  model.train()\n",
        "  loss_acum, acc_acum = 0, 0\n",
        "  for X,y in train_loader:\n",
        "    X = X.to(device)\n",
        "    y = y.to(device)\n",
        "\n",
        "    # 1. Predictions\n",
        "    y_pred = model(X)\n",
        "\n",
        "    # 2. Loss calculation\n",
        "    loss = loss_fn(y_pred, y)\n",
        "    loss_acum += loss\n",
        "\n",
        "    metric.update(y_pred,y)\n",
        "    acc_acum += metric.compute()\n",
        "\n",
        "    # 3. Gradient reset\n",
        "    optimizer.zero_grad()\n",
        "\n",
        "    # 4. Gradient Calculation\n",
        "    loss.backward()\n",
        "\n",
        "    # 5. Updating weights\n",
        "    optimizer.step()\n",
        "\n",
        "  loss_acum /= len(train_loader)\n",
        "  acc_acum /= len(train_loader)\n",
        "\n",
        "  print(f'Train loss: {loss_acum:.5f} | Train accuracy: {acc_acum:.2f}')\n",
        "\n",
        "  model.eval()\n",
        "  with torch.inference_mode():\n",
        "    loss_acum_test, acc_acum_test = 0, 0\n",
        "    for X,y in test_loader:\n",
        "      X = X.to(device)\n",
        "      y = y.to(device)\n",
        "\n",
        "      # 1. Predictions\n",
        "      y_pred = model(X)\n",
        "\n",
        "      # 2. Loss calculation\n",
        "      loss = loss_fn(y_pred, y)\n",
        "      loss_acum_test += loss\n",
        "\n",
        "      metric.update(y_pred,y)\n",
        "      acc_acum_test += metric.compute()\n",
        "\n",
        "    loss_acum_test /= len(train_loader)\n",
        "    acc_acum_test /= len(train_loader)\n",
        "\n",
        "    print(f'Test loss: {loss_acum_test:.5f} | Test accuracy: {acc_acum_test:.2f}')"
      ],
      "metadata": {
        "colab": {
          "base_uri": "https://localhost:8080/"
        },
        "id": "mJ6FNFuZUGhK",
        "outputId": "0468a615-fd21-4eae-89d2-ca1dcd5915aa"
      },
      "execution_count": 79,
      "outputs": [
        {
          "output_type": "stream",
          "name": "stdout",
          "text": [
            "# Epoch: 0\n",
            "Train loss: 1.09844 | Train accuracy: 0.36\n",
            "Test loss: 0.36605 | Test accuracy: 0.12\n",
            "# Epoch: 1\n",
            "Train loss: 1.09958 | Train accuracy: 0.35\n",
            "Test loss: 0.36606 | Test accuracy: 0.12\n",
            "# Epoch: 2\n",
            "Train loss: 1.09865 | Train accuracy: 0.36\n",
            "Test loss: 0.36602 | Test accuracy: 0.12\n",
            "# Epoch: 3\n",
            "Train loss: 1.09822 | Train accuracy: 0.35\n",
            "Test loss: 0.36607 | Test accuracy: 0.12\n",
            "# Epoch: 4\n",
            "Train loss: 1.09832 | Train accuracy: 0.35\n",
            "Test loss: 0.36605 | Test accuracy: 0.12\n",
            "# Epoch: 5\n",
            "Train loss: 1.09837 | Train accuracy: 0.36\n",
            "Test loss: 0.36603 | Test accuracy: 0.12\n",
            "# Epoch: 6\n",
            "Train loss: 1.09878 | Train accuracy: 0.35\n",
            "Test loss: 0.36604 | Test accuracy: 0.12\n",
            "# Epoch: 7\n",
            "Train loss: 1.09806 | Train accuracy: 0.35\n",
            "Test loss: 0.36605 | Test accuracy: 0.12\n",
            "# Epoch: 8\n",
            "Train loss: 1.09762 | Train accuracy: 0.36\n",
            "Test loss: 0.36606 | Test accuracy: 0.12\n",
            "# Epoch: 9\n",
            "Train loss: 1.09763 | Train accuracy: 0.35\n",
            "Test loss: 0.36605 | Test accuracy: 0.12\n",
            "# Epoch: 10\n",
            "Train loss: 1.09915 | Train accuracy: 0.36\n",
            "Test loss: 0.36602 | Test accuracy: 0.12\n",
            "# Epoch: 11\n",
            "Train loss: 1.09803 | Train accuracy: 0.36\n",
            "Test loss: 0.36605 | Test accuracy: 0.12\n",
            "# Epoch: 12\n",
            "Train loss: 1.09848 | Train accuracy: 0.36\n",
            "Test loss: 0.36606 | Test accuracy: 0.12\n",
            "# Epoch: 13\n",
            "Train loss: 1.09826 | Train accuracy: 0.36\n",
            "Test loss: 0.36607 | Test accuracy: 0.12\n",
            "# Epoch: 14\n",
            "Train loss: 1.09874 | Train accuracy: 0.36\n",
            "Test loss: 0.36606 | Test accuracy: 0.12\n"
          ]
        }
      ]
    },
    {
      "cell_type": "code",
      "source": [
        "input = torch.randn(3, 5, requires_grad=True)\n",
        "input"
      ],
      "metadata": {
        "id": "2KrM2_Ox7L02"
      },
      "execution_count": null,
      "outputs": []
    },
    {
      "cell_type": "code",
      "source": [
        "target = torch.empty(3, dtype=torch.long).random_(5)\n",
        "target"
      ],
      "metadata": {
        "id": "K6KTukWuf6tm"
      },
      "execution_count": null,
      "outputs": []
    },
    {
      "cell_type": "code",
      "source": [
        "metric.update(y_pred,y)\n",
        "metric.compute()"
      ],
      "metadata": {
        "colab": {
          "base_uri": "https://localhost:8080/"
        },
        "id": "O4hDB5JqB7Y2",
        "outputId": "5ca7c0a2-96e6-4095-9718-06b2fdb5bf0f"
      },
      "execution_count": 67,
      "outputs": [
        {
          "output_type": "execute_result",
          "data": {
            "text/plain": [
              "tensor(0.4375)"
            ]
          },
          "metadata": {},
          "execution_count": 67
        }
      ]
    },
    {
      "cell_type": "code",
      "source": [
        "from torch.nn import Softmax\n",
        "\n",
        "softmax = Softmax()\n",
        "softmax(y_pred)"
      ],
      "metadata": {
        "colab": {
          "base_uri": "https://localhost:8080/"
        },
        "id": "VXPIBLwHCByJ",
        "outputId": "efe0db46-2aa8-4396-e64a-acda70243ea2"
      },
      "execution_count": 75,
      "outputs": [
        {
          "output_type": "stream",
          "name": "stderr",
          "text": [
            "/usr/local/lib/python3.10/dist-packages/torch/nn/modules/module.py:1518: UserWarning: Implicit dimension choice for softmax has been deprecated. Change the call to include dim=X as an argument.\n",
            "  return self._call_impl(*args, **kwargs)\n"
          ]
        },
        {
          "output_type": "execute_result",
          "data": {
            "text/plain": [
              "tensor([[0.3265, 0.3377, 0.3358],\n",
              "        [0.3272, 0.3397, 0.3331],\n",
              "        [0.3278, 0.3416, 0.3306],\n",
              "        [0.3268, 0.3349, 0.3383],\n",
              "        [0.3214, 0.3452, 0.3335],\n",
              "        [0.3247, 0.3403, 0.3349],\n",
              "        [0.3247, 0.3382, 0.3371],\n",
              "        [0.3286, 0.3406, 0.3308],\n",
              "        [0.3233, 0.3421, 0.3347],\n",
              "        [0.3253, 0.3401, 0.3345],\n",
              "        [0.3256, 0.3392, 0.3352],\n",
              "        [0.3258, 0.3391, 0.3351],\n",
              "        [0.3262, 0.3390, 0.3348],\n",
              "        [0.3262, 0.3398, 0.3341],\n",
              "        [0.3255, 0.3397, 0.3349],\n",
              "        [0.3303, 0.3355, 0.3343]], grad_fn=<SoftmaxBackward0>)"
            ]
          },
          "metadata": {},
          "execution_count": 75
        }
      ]
    },
    {
      "cell_type": "code",
      "source": [
        "loss_acum"
      ],
      "metadata": {
        "colab": {
          "base_uri": "https://localhost:8080/"
        },
        "id": "TtrEfID_CDQ_",
        "outputId": "5934156d-ec24-4047-a551-ad9e8299cef0"
      },
      "execution_count": 78,
      "outputs": [
        {
          "output_type": "execute_result",
          "data": {
            "text/plain": [
              "tensor(0.3680)"
            ]
          },
          "metadata": {},
          "execution_count": 78
        }
      ]
    }
  ]
}