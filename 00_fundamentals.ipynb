{
 "cells": [
  {
   "cell_type": "code",
   "execution_count": 4,
   "id": "17e8bfa5-3676-4e56-be92-b45d416ad2f6",
   "metadata": {},
   "outputs": [],
   "source": [
    "import torch"
   ]
  },
  {
   "cell_type": "markdown",
   "id": "ae2a2424-5f95-46ad-acc6-18754640c743",
   "metadata": {},
   "source": [
    "# Atributos de un Tensor "
   ]
  },
  {
   "cell_type": "code",
   "execution_count": 5,
   "id": "e8cfa753-7f30-4457-a51f-6df71905a6a3",
   "metadata": {},
   "outputs": [
    {
     "data": {
      "text/plain": [
       "tensor([[0.0905, 0.0071, 0.9472, 0.8345],\n",
       "        [0.4212, 0.4849, 0.3151, 0.6391],\n",
       "        [0.1695, 0.9189, 0.5325, 0.2927]])"
      ]
     },
     "execution_count": 5,
     "metadata": {},
     "output_type": "execute_result"
    }
   ],
   "source": [
    "some_tensor = torch.rand(3,4)\n",
    "some_tensor"
   ]
  },
  {
   "cell_type": "code",
   "execution_count": 6,
   "id": "a94c219e-a9ed-4681-b4b7-0e7adb8a3796",
   "metadata": {},
   "outputs": [
    {
     "name": "stdout",
     "output_type": "stream",
     "text": [
      "Data type:  torch.float32\n",
      "Tensor Shape:  torch.Size([3, 4])\n",
      "Tensor Device:  cpu\n"
     ]
    }
   ],
   "source": [
    "print('Data type: ',some_tensor.dtype)\n",
    "print('Tensor Shape: ',some_tensor.shape)\n",
    "print('Tensor Device: ',some_tensor.device)"
   ]
  },
  {
   "cell_type": "markdown",
   "id": "c2fb03d6-810a-4a9d-8f73-5ec902edf2d3",
   "metadata": {},
   "source": [
    "# Manipulacion"
   ]
  },
  {
   "cell_type": "code",
   "execution_count": 7,
   "id": "27008507-4e59-4244-b47c-b8285d46f63b",
   "metadata": {},
   "outputs": [
    {
     "data": {
      "text/plain": [
       "tensor([11, 12, 13])"
      ]
     },
     "execution_count": 7,
     "metadata": {},
     "output_type": "execute_result"
    }
   ],
   "source": [
    "tensor = torch.tensor([1,2,3])\n",
    "tensor + 10"
   ]
  },
  {
   "cell_type": "code",
   "execution_count": 8,
   "id": "6f70e06f-4b5f-4ff1-b244-ec1cdab5b29e",
   "metadata": {},
   "outputs": [
    {
     "data": {
      "text/plain": [
       "tensor([10, 20, 30])"
      ]
     },
     "execution_count": 8,
     "metadata": {},
     "output_type": "execute_result"
    }
   ],
   "source": [
    "tensor *10"
   ]
  },
  {
   "cell_type": "code",
   "execution_count": 9,
   "id": "50d00566-7abd-4c2f-8c5c-cfebb6307c48",
   "metadata": {},
   "outputs": [
    {
     "data": {
      "text/plain": [
       "tensor([ 5, 10, 15])"
      ]
     },
     "execution_count": 9,
     "metadata": {},
     "output_type": "execute_result"
    }
   ],
   "source": [
    "torch.mul(tensor,5)"
   ]
  },
  {
   "cell_type": "code",
   "execution_count": 10,
   "id": "d044db40-89e0-441d-8f1f-b85eea714481",
   "metadata": {},
   "outputs": [
    {
     "data": {
      "text/plain": [
       "tensor([3, 4, 5])"
      ]
     },
     "execution_count": 10,
     "metadata": {},
     "output_type": "execute_result"
    }
   ],
   "source": [
    "torch.add(tensor,2)"
   ]
  },
  {
   "cell_type": "code",
   "execution_count": 11,
   "id": "dc13cbb0-e6ea-4cb6-9c95-34125a281dca",
   "metadata": {},
   "outputs": [
    {
     "data": {
      "text/plain": [
       "tensor(14)"
      ]
     },
     "execution_count": 11,
     "metadata": {},
     "output_type": "execute_result"
    }
   ],
   "source": [
    "# Matrix Multiplciacion\n",
    "torch.matmul(tensor,tensor)"
   ]
  },
  {
   "cell_type": "markdown",
   "id": "3be9b760-1687-4ea1-a1ec-cce5377cb053",
   "metadata": {},
   "source": [
    "## Multiplicacion de Matrices"
   ]
  },
  {
   "cell_type": "markdown",
   "id": "9cd77ce6-8404-4b1f-abdf-a380bef1d0dd",
   "metadata": {},
   "source": [
    "Problemas con la dimensiones de las matrices\n",
    "1. Los **valores internos** al momento de multiplicar debe coincidir:\n",
    "    * (3,2) @ (3,2) no funcionará\n",
    "    * (2,3) @ (3,2) funcionará\n",
    "    * (3,2) @ (2,3) funcionará\n",
    "2. El resultado de la multiplicacion de las matrices tiene el tamaño de los **valores externos** de cada matriz:\n",
    "    * (2,3) @ (3,2) -> (2,2)\n",
    "    * (3,2) @ (2,3) -> (3,3)\n",
    "  \n",
    "matrixmultiplication.xyz\n",
    "   "
   ]
  },
  {
   "cell_type": "code",
   "execution_count": null,
   "id": "9c2c9c29-2698-4ce4-935c-7f798606ae28",
   "metadata": {},
   "outputs": [],
   "source": [
    "torch."
   ]
  },
  {
   "cell_type": "code",
   "execution_count": 12,
   "id": "fe88392c-f079-4e3a-a8f0-5a203b609880",
   "metadata": {},
   "outputs": [
    {
     "data": {
      "text/plain": [
       "tensor([[2.6643, 1.6013, 2.5866],\n",
       "        [2.4156, 1.9370, 2.2431],\n",
       "        [1.5407, 1.6808, 2.3172]])"
      ]
     },
     "execution_count": 12,
     "metadata": {},
     "output_type": "execute_result"
    }
   ],
   "source": [
    "torch.matmul(torch.rand(3,10),torch.rand(10,3))"
   ]
  },
  {
   "cell_type": "code",
   "execution_count": 13,
   "id": "f6b88c60-e908-4237-bb54-3d6b3fdab227",
   "metadata": {},
   "outputs": [],
   "source": [
    "tensorA = torch.tensor([[1,2],\n",
    "                        [3,4],\n",
    "                       [5,6]])\n",
    "tensorB = torch.tensor([[7,8],\n",
    "                      [9,10],\n",
    "                      [11,12]])"
   ]
  },
  {
   "cell_type": "code",
   "execution_count": 14,
   "id": "f0040b29-47cf-4ec1-8c7c-290ef7ea8985",
   "metadata": {},
   "outputs": [
    {
     "data": {
      "text/plain": [
       "tensor([[ 23,  29,  35],\n",
       "        [ 53,  67,  81],\n",
       "        [ 83, 105, 127]])"
      ]
     },
     "execution_count": 14,
     "metadata": {},
     "output_type": "execute_result"
    }
   ],
   "source": [
    "torch.mm(tensorA,tensorB.T)"
   ]
  },
  {
   "cell_type": "markdown",
   "id": "92af5a9e-a36d-41bf-a007-569e96b015df",
   "metadata": {},
   "source": [
    "## Tensor Agregation"
   ]
  },
  {
   "cell_type": "code",
   "execution_count": 15,
   "id": "c9fe4b5a-7cb6-4b08-a5d8-89d7897db0f5",
   "metadata": {},
   "outputs": [
    {
     "data": {
      "text/plain": [
       "(tensor([ 0, 10, 20, 30, 40, 50, 60, 70, 80, 90]), torch.int64)"
      ]
     },
     "execution_count": 15,
     "metadata": {},
     "output_type": "execute_result"
    }
   ],
   "source": [
    "x = torch.arange(0,100,10)\n",
    "x, x.dtype"
   ]
  },
  {
   "cell_type": "code",
   "execution_count": 16,
   "id": "026d16e6-4e75-4bf8-a87c-f6c5a4fd41a0",
   "metadata": {},
   "outputs": [
    {
     "data": {
      "text/plain": [
       "(tensor(0), tensor(0))"
      ]
     },
     "execution_count": 16,
     "metadata": {},
     "output_type": "execute_result"
    }
   ],
   "source": [
    "torch.min(x), x.min()"
   ]
  },
  {
   "cell_type": "code",
   "execution_count": 17,
   "id": "ccf84e93-4dba-4896-a05d-6f78c56e9f89",
   "metadata": {},
   "outputs": [
    {
     "data": {
      "text/plain": [
       "(tensor(90), tensor(90))"
      ]
     },
     "execution_count": 17,
     "metadata": {},
     "output_type": "execute_result"
    }
   ],
   "source": [
    "torch.max(x), x.max()"
   ]
  },
  {
   "cell_type": "code",
   "execution_count": 21,
   "id": "59df0336-30ff-47a0-be8d-46c492f652a1",
   "metadata": {},
   "outputs": [
    {
     "ename": "RuntimeError",
     "evalue": "mean(): could not infer output dtype. Input dtype must be either a floating point or complex dtype. Got: Long",
     "output_type": "error",
     "traceback": [
      "\u001b[0;31m---------------------------------------------------------------------------\u001b[0m",
      "\u001b[0;31mRuntimeError\u001b[0m                              Traceback (most recent call last)",
      "Cell \u001b[0;32mIn[21], line 1\u001b[0m\n\u001b[0;32m----> 1\u001b[0m \u001b[43mtorch\u001b[49m\u001b[38;5;241;43m.\u001b[39;49m\u001b[43mmean\u001b[49m\u001b[43m(\u001b[49m\u001b[43mx\u001b[49m\u001b[43m)\u001b[49m\n",
      "\u001b[0;31mRuntimeError\u001b[0m: mean(): could not infer output dtype. Input dtype must be either a floating point or complex dtype. Got: Long"
     ]
    }
   ],
   "source": [
    "torch.mean(x)"
   ]
  },
  {
   "cell_type": "code",
   "execution_count": 22,
   "id": "4a7e9124-6514-466b-b926-fd8b8b046f63",
   "metadata": {},
   "outputs": [
    {
     "data": {
      "text/plain": [
       "(tensor(45.), tensor(45.))"
      ]
     },
     "execution_count": 22,
     "metadata": {},
     "output_type": "execute_result"
    }
   ],
   "source": [
    "torch.mean(x.type(torch.float32)),x.type(torch.float32).mean()"
   ]
  },
  {
   "cell_type": "code",
   "execution_count": 23,
   "id": "52091d02-6382-4bac-8bad-2923403412c6",
   "metadata": {},
   "outputs": [
    {
     "data": {
      "text/plain": [
       "tensor(9)"
      ]
     },
     "execution_count": 23,
     "metadata": {},
     "output_type": "execute_result"
    }
   ],
   "source": [
    "x.argmax()"
   ]
  },
  {
   "cell_type": "markdown",
   "id": "cf8699f6-f5c6-4114-b862-23f41787ec76",
   "metadata": {},
   "source": [
    "Tipos de Errores:\n",
    "- Dimensionalidad\n",
    "- Data type\n",
    "- Device"
   ]
  },
  {
   "cell_type": "markdown",
   "id": "2861b833-60e1-49f4-a556-31a8db492a0c",
   "metadata": {},
   "source": [
    "## Reshaping, stacking, squeezing and unqueezing\n",
    "* Reshape - redefina un tensor a una forma definida\n",
    "* Stack - concatena una secuencia de tensores sobre una nueva dimension\n",
    "* Squeeze - remueve todas aquellas dimensiones con dimension tamaño 1\n",
    "* Unsqueeze - añade una dimension de valor 1 al tensor\n",
    "* Permute - reodena las dimensiones de un tensor"
   ]
  },
  {
   "cell_type": "code",
   "execution_count": 25,
   "id": "f282bf51-9b02-490c-8be3-d49033928a03",
   "metadata": {},
   "outputs": [],
   "source": [
    "import torch"
   ]
  },
  {
   "cell_type": "code",
   "execution_count": 63,
   "id": "5a27b126-63ed-4393-8e98-23dfe4f889ce",
   "metadata": {},
   "outputs": [
    {
     "data": {
      "text/plain": [
       "(tensor([1, 2, 3, 4, 5, 6, 7, 8, 9]), torch.Size([9]))"
      ]
     },
     "execution_count": 63,
     "metadata": {},
     "output_type": "execute_result"
    }
   ],
   "source": [
    "# add extra dimension\n",
    "x = torch.arange(1,10)\n",
    "x,x.shape"
   ]
  },
  {
   "cell_type": "code",
   "execution_count": 64,
   "id": "c07037ea-a310-4429-82ba-31d1a4420678",
   "metadata": {},
   "outputs": [
    {
     "data": {
      "text/plain": [
       "(tensor([[1, 2, 3, 4, 5, 6, 7, 8, 9]]), torch.Size([1, 9]))"
      ]
     },
     "execution_count": 64,
     "metadata": {},
     "output_type": "execute_result"
    }
   ],
   "source": [
    "x_reshaped = x.reshape(1,9)\n",
    "x_reshaped, x_reshaped.shape"
   ]
  },
  {
   "cell_type": "code",
   "execution_count": 35,
   "id": "3aaa4d78-9297-49ac-b14b-c55c59bd36d6",
   "metadata": {},
   "outputs": [
    {
     "data": {
      "text/plain": [
       "(tensor([ 1,  2,  3,  4,  5,  6,  7,  8,  9, 10, 11, 12, 13, 14]),\n",
       " torch.Size([14]))"
      ]
     },
     "execution_count": 35,
     "metadata": {},
     "output_type": "execute_result"
    }
   ],
   "source": [
    "x = torch.arange(1,15)\n",
    "x,x.shape"
   ]
  },
  {
   "cell_type": "code",
   "execution_count": 39,
   "id": "4db9c221-ec03-49e5-bbfa-4bed4ac7b1f9",
   "metadata": {},
   "outputs": [
    {
     "data": {
      "text/plain": [
       "(tensor([[ 1,  2,  3,  4,  5,  6,  7],\n",
       "         [ 8,  9, 10, 11, 12, 13, 14]]),\n",
       " torch.Size([2, 7]))"
      ]
     },
     "execution_count": 39,
     "metadata": {},
     "output_type": "execute_result"
    }
   ],
   "source": [
    "x_reshaped = x.reshape(2,7)\n",
    "x_reshaped,x_reshaped.shape"
   ]
  },
  {
   "cell_type": "code",
   "execution_count": 50,
   "id": "7b3a95bb-1a22-4930-a999-a4c42fbbf23f",
   "metadata": {},
   "outputs": [
    {
     "data": {
      "text/plain": [
       "tensor([[[ 1,  1],\n",
       "         [ 2,  2],\n",
       "         [ 3,  3],\n",
       "         [ 4,  4],\n",
       "         [ 5,  5],\n",
       "         [ 6,  6],\n",
       "         [ 7,  7]],\n",
       "\n",
       "        [[ 8,  8],\n",
       "         [ 9,  9],\n",
       "         [10, 10],\n",
       "         [11, 11],\n",
       "         [12, 12],\n",
       "         [13, 13],\n",
       "         [14, 14]]])"
      ]
     },
     "execution_count": 50,
     "metadata": {},
     "output_type": "execute_result"
    }
   ],
   "source": [
    "# Stack\n",
    "torch.stack([x_reshaped,x_reshaped], axis=2)"
   ]
  },
  {
   "cell_type": "code",
   "execution_count": 53,
   "id": "4208efbc-59b7-4666-9cb7-f164a4b35d0f",
   "metadata": {},
   "outputs": [
    {
     "data": {
      "text/plain": [
       "tensor([[ 1,  2,  3,  4,  5,  6,  7],\n",
       "        [ 8,  9, 10, 11, 12, 13, 14],\n",
       "        [ 1,  2,  3,  4,  5,  6,  7],\n",
       "        [ 8,  9, 10, 11, 12, 13, 14]])"
      ]
     },
     "execution_count": 53,
     "metadata": {},
     "output_type": "execute_result"
    }
   ],
   "source": [
    "torch.vstack([x_reshaped,x_reshaped])-"
   ]
  },
  {
   "cell_type": "code",
   "execution_count": 76,
   "id": "6049747b-187b-467f-b9cd-ce6b9ebf4b20",
   "metadata": {},
   "outputs": [
    {
     "data": {
      "text/plain": [
       "tensor([[1, 2, 3, 4, 5, 6, 7, 8, 9, 1, 2, 3, 4, 5, 6, 7, 8, 9]])"
      ]
     },
     "execution_count": 76,
     "metadata": {},
     "output_type": "execute_result"
    }
   ],
   "source": [
    "xx = torch.hstack([x_reshaped,x_reshaped])\n",
    "xx"
   ]
  },
  {
   "cell_type": "code",
   "execution_count": 65,
   "id": "9bba7cfc-2bc8-4c56-bfab-da1930eabb76",
   "metadata": {},
   "outputs": [
    {
     "data": {
      "text/plain": [
       "tensor([1, 2, 3, 4, 5, 6, 7, 8, 9])"
      ]
     },
     "execution_count": 65,
     "metadata": {},
     "output_type": "execute_result"
    }
   ],
   "source": [
    "# Squeeze\n",
    "x_reshaped.squeeze()"
   ]
  },
  {
   "cell_type": "code",
   "execution_count": 79,
   "id": "3fd7fa67-c5d8-425b-8564-bfba0812c1aa",
   "metadata": {},
   "outputs": [
    {
     "data": {
      "text/plain": [
       "(tensor([[[1],\n",
       "          [2],\n",
       "          [3],\n",
       "          [4],\n",
       "          [5],\n",
       "          [6],\n",
       "          [7],\n",
       "          [8],\n",
       "          [9],\n",
       "          [1],\n",
       "          [2],\n",
       "          [3],\n",
       "          [4],\n",
       "          [5],\n",
       "          [6],\n",
       "          [7],\n",
       "          [8],\n",
       "          [9]]]),\n",
       " torch.Size([1, 18, 1]))"
      ]
     },
     "execution_count": 79,
     "metadata": {},
     "output_type": "execute_result"
    }
   ],
   "source": [
    "torch.unsqueeze(xx,2),torch.unsqueeze(xx,2).shape"
   ]
  },
  {
   "cell_type": "code",
   "execution_count": 85,
   "id": "7d605fe5-7036-47f1-91f0-1f01eb4c1802",
   "metadata": {},
   "outputs": [
    {
     "data": {
      "text/plain": [
       "torch.Size([224, 224, 3])"
      ]
     },
     "execution_count": 85,
     "metadata": {},
     "output_type": "execute_result"
    }
   ],
   "source": [
    "# Permutacion\n",
    "x_img = torch.rand((224,224,3))\n",
    "x_img.shape"
   ]
  },
  {
   "cell_type": "code",
   "execution_count": 87,
   "id": "d20f4740-70fe-4260-8d3b-e4da7aaee912",
   "metadata": {},
   "outputs": [
    {
     "data": {
      "text/plain": [
       "torch.Size([3, 224, 224])"
      ]
     },
     "execution_count": 87,
     "metadata": {},
     "output_type": "execute_result"
    }
   ],
   "source": [
    "x_img_perm = torch.permute(x_img,(2,0,1))\n",
    "x_img_perm.shape"
   ]
  },
  {
   "cell_type": "markdown",
   "id": "4900171f-a94b-4658-a227-c0a22892eaaf",
   "metadata": {},
   "source": [
    "## Array to Tensor"
   ]
  },
  {
   "cell_type": "code",
   "execution_count": 10,
   "id": "6d88a929-0bb9-40bf-96f0-03e3c8abfbfb",
   "metadata": {},
   "outputs": [
    {
     "data": {
      "text/plain": [
       "(array([1., 2., 3., 4., 5., 6., 7.]),\n",
       " tensor([1., 2., 3., 4., 5., 6., 7.], dtype=torch.float64))"
      ]
     },
     "execution_count": 10,
     "metadata": {},
     "output_type": "execute_result"
    }
   ],
   "source": [
    "import torch \n",
    "import numpy as np\n",
    "\n",
    "array = np.arange(1.0,8)\n",
    "tensor = torch.from_numpy(array)\n",
    "array, tensor"
   ]
  },
  {
   "cell_type": "code",
   "execution_count": 11,
   "id": "c93bccd9-31ef-4896-85ea-c0fc52ca1eb7",
   "metadata": {},
   "outputs": [
    {
     "data": {
      "text/plain": [
       "(dtype('float64'), torch.float64)"
      ]
     },
     "execution_count": 11,
     "metadata": {},
     "output_type": "execute_result"
    }
   ],
   "source": [
    "array.dtype,tensor.dtype"
   ]
  },
  {
   "cell_type": "code",
   "execution_count": 14,
   "id": "d01e5480-9b08-4e91-8c40-a86240b27832",
   "metadata": {},
   "outputs": [
    {
     "data": {
      "text/plain": [
       "(array([1., 2., 3., 4., 5., 6., 7.]), dtype('float64'))"
      ]
     },
     "execution_count": 14,
     "metadata": {},
     "output_type": "execute_result"
    }
   ],
   "source": [
    "numpy_tensor = tensor.numpy()\n",
    "numpy_tensor, numpy_tensor.dtype"
   ]
  },
  {
   "cell_type": "markdown",
   "id": "f9c15baf-72ff-4b07-a136-2df8546f310d",
   "metadata": {},
   "source": [
    "## Reproducibilidad"
   ]
  },
  {
   "cell_type": "code",
   "execution_count": 19,
   "id": "260340c5-16ac-4f72-be65-f753419b11e7",
   "metadata": {},
   "outputs": [
    {
     "name": "stdout",
     "output_type": "stream",
     "text": [
      "tensor([[0.2961, 0.5166, 0.2517],\n",
      "        [0.6886, 0.0740, 0.8665]])\n",
      "tensor([[0.1366, 0.1025, 0.1841],\n",
      "        [0.7264, 0.3153, 0.6871]])\n"
     ]
    }
   ],
   "source": [
    "# Para una linea\n",
    "\n",
    "seed = 123\n",
    "torch.manual_seed(seed)\n",
    "tensor_A = torch.rand(2,3)\n",
    "tensor_B = torch.rand(2,3)\n",
    "\n",
    "print(tensor_A)\n",
    "print(tensor_B)\n",
    "## no sol iguales"
   ]
  },
  {
   "cell_type": "code",
   "execution_count": 21,
   "id": "191f2498-59e9-4613-a836-3eb7d1ff6a73",
   "metadata": {},
   "outputs": [
    {
     "data": {
      "text/plain": [
       "tensor([[0.2961, 0.5166, 0.2517],\n",
       "        [0.6886, 0.0740, 0.8665]])"
      ]
     },
     "execution_count": 21,
     "metadata": {},
     "output_type": "execute_result"
    }
   ],
   "source": [
    "seed = 123\n",
    "torch.manual_seed(seed)\n",
    "torch.rand(2,3)"
   ]
  },
  {
   "cell_type": "code",
   "execution_count": 24,
   "id": "2230bcb8-5a66-4e09-adf4-4fde84a469df",
   "metadata": {},
   "outputs": [
    {
     "data": {
      "text/plain": [
       "tensor([[0.4963, 0.7682, 0.0885],\n",
       "        [0.1320, 0.3074, 0.6341]])"
      ]
     },
     "execution_count": 24,
     "metadata": {},
     "output_type": "execute_result"
    }
   ],
   "source": [
    "# Para el proyecto\n",
    "seed = 321\n",
    "\n",
    "gen = torch.Generator()\n",
    "gen = gen.manual_seed(0)\n",
    "torch.rand(2,3,generator=gen)"
   ]
  },
  {
   "cell_type": "code",
   "execution_count": 25,
   "id": "4986e60e-759b-46c6-bfd3-1eedee5d22e8",
   "metadata": {},
   "outputs": [
    {
     "data": {
      "text/plain": [
       "tensor([[0.4901, 0.8964, 0.4556],\n",
       "        [0.6323, 0.3489, 0.4017]])"
      ]
     },
     "execution_count": 25,
     "metadata": {},
     "output_type": "execute_result"
    }
   ],
   "source": [
    "torch.rand(2,3,generator=gen)"
   ]
  },
  {
   "cell_type": "markdown",
   "id": "13e3b6b4-8b41-47b7-a655-2010309ae1ad",
   "metadata": {},
   "source": [
    " # GPU"
   ]
  },
  {
   "cell_type": "code",
   "execution_count": 28,
   "id": "6820ce51-d52f-40cd-9ea9-4bd8b998aaed",
   "metadata": {},
   "outputs": [
    {
     "name": "stdout",
     "output_type": "stream",
     "text": [
      "Tue Jan  9 09:45:39 2024       \n",
      "+---------------------------------------------------------------------------------------+\n",
      "| NVIDIA-SMI 545.36                 Driver Version: 546.33       CUDA Version: 12.3     |\n",
      "|-----------------------------------------+----------------------+----------------------+\n",
      "| GPU  Name                 Persistence-M | Bus-Id        Disp.A | Volatile Uncorr. ECC |\n",
      "| Fan  Temp   Perf          Pwr:Usage/Cap |         Memory-Usage | GPU-Util  Compute M. |\n",
      "|                                         |                      |               MIG M. |\n",
      "|=========================================+======================+======================|\n",
      "|   0  NVIDIA GeForce RTX 4070        On  | 00000000:01:00.0  On |                  N/A |\n",
      "|  0%   35C    P5              19W / 200W |    843MiB / 12282MiB |      9%      Default |\n",
      "|                                         |                      |                  N/A |\n",
      "+-----------------------------------------+----------------------+----------------------+\n",
      "                                                                                         \n",
      "+---------------------------------------------------------------------------------------+\n",
      "| Processes:                                                                            |\n",
      "|  GPU   GI   CI        PID   Type   Process name                            GPU Memory |\n",
      "|        ID   ID                                                             Usage      |\n",
      "|=======================================================================================|\n",
      "|  No running processes found                                                           |\n",
      "+---------------------------------------------------------------------------------------+\n"
     ]
    }
   ],
   "source": [
    "!nvidia-smi"
   ]
  },
  {
   "cell_type": "code",
   "execution_count": 30,
   "id": "fb624290-fbee-44bd-a9fc-a388652a08fb",
   "metadata": {},
   "outputs": [
    {
     "data": {
      "text/plain": [
       "True"
      ]
     },
     "execution_count": 30,
     "metadata": {},
     "output_type": "execute_result"
    }
   ],
   "source": [
    "# chech GPU access\n",
    "import torch\n",
    "\n",
    "torch.cuda.is_available()"
   ]
  },
  {
   "cell_type": "code",
   "execution_count": 34,
   "id": "25968e75-221a-478c-a0b1-617ad6d99e70",
   "metadata": {},
   "outputs": [
    {
     "data": {
      "text/plain": [
       "'cuda'"
      ]
     },
     "execution_count": 34,
     "metadata": {},
     "output_type": "execute_result"
    }
   ],
   "source": [
    "# Device agnostic code\n",
    "device = \"cuda\" if torch.cuda.is_available() else \"cpu\"\n",
    "device"
   ]
  },
  {
   "cell_type": "markdown",
   "id": "4efe5b25-9007-4386-b54c-2735b058a1ba",
   "metadata": {},
   "source": [
    "## Tensors en GPU"
   ]
  },
  {
   "cell_type": "code",
   "execution_count": 36,
   "id": "b697e53e-6f47-4b3a-b137-c3e39c4a603f",
   "metadata": {},
   "outputs": [
    {
     "data": {
      "text/plain": [
       "(tensor([[0.2745, 0.6584, 0.2775],\n",
       "         [0.8573, 0.8993, 0.0390]]),\n",
       " device(type='cpu'))"
      ]
     },
     "execution_count": 36,
     "metadata": {},
     "output_type": "execute_result"
    }
   ],
   "source": [
    "tensor = torch.rand(2,3)\n",
    "tensor, tensor.device"
   ]
  },
  {
   "cell_type": "code",
   "execution_count": 40,
   "id": "f00df874-c272-45e0-af0f-d149b2da028f",
   "metadata": {},
   "outputs": [
    {
     "data": {
      "text/plain": [
       "device(type='cuda', index=0)"
      ]
     },
     "execution_count": 40,
     "metadata": {},
     "output_type": "execute_result"
    }
   ],
   "source": [
    "tensor_on_gpu = tensor.to(device)\n",
    "tensor_on_gpu.device"
   ]
  },
  {
   "cell_type": "code",
   "execution_count": null,
   "id": "6693b923-1c08-40fd-8200-5366cc81c847",
   "metadata": {},
   "outputs": [],
   "source": []
  },
  {
   "cell_type": "code",
   "execution_count": null,
   "id": "308f1471-d18d-4938-af48-630ef7cac1d5",
   "metadata": {},
   "outputs": [],
   "source": []
  }
 ],
 "metadata": {
  "kernelspec": {
   "display_name": "pytorch",
   "language": "python",
   "name": "pytorch"
  },
  "language_info": {
   "codemirror_mode": {
    "name": "ipython",
    "version": 3
   },
   "file_extension": ".py",
   "mimetype": "text/x-python",
   "name": "python",
   "nbconvert_exporter": "python",
   "pygments_lexer": "ipython3",
   "version": "3.10.13"
  }
 },
 "nbformat": 4,
 "nbformat_minor": 5
}
